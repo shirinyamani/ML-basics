{
 "cells": [
  {
   "cell_type": "code",
   "execution_count": 1,
   "id": "3331ead2-28ad-492b-b288-e17a6d6e8133",
   "metadata": {},
   "outputs": [
    {
     "name": "stdout",
     "output_type": "stream",
     "text": [
      "Requirement already satisfied: Faker in /home/shirin/anaconda3/envs/ali-ml/lib/python3.10/site-packages (19.6.0)\n",
      "Requirement already satisfied: python-dateutil>=2.4 in /home/shirin/anaconda3/envs/ali-ml/lib/python3.10/site-packages (from Faker) (2.8.2)\n",
      "Requirement already satisfied: six>=1.5 in /home/shirin/anaconda3/envs/ali-ml/lib/python3.10/site-packages (from python-dateutil>=2.4->Faker) (1.16.0)\n",
      "Requirement already satisfied: names-dataset in /home/shirin/anaconda3/envs/ali-ml/lib/python3.10/site-packages (3.1.0)\n",
      "Requirement already satisfied: pycountry in /home/shirin/anaconda3/envs/ali-ml/lib/python3.10/site-packages (from names-dataset) (22.3.5)\n",
      "Requirement already satisfied: setuptools in /home/shirin/anaconda3/envs/ali-ml/lib/python3.10/site-packages (from pycountry->names-dataset) (68.0.0)\n"
     ]
    }
   ],
   "source": [
    "!pip install Faker\n",
    "!pip install names-dataset"
   ]
  },
  {
   "cell_type": "code",
   "execution_count": 28,
   "id": "7a9f0923-5a7e-4ca4-a7ec-9df9303c147b",
   "metadata": {},
   "outputs": [],
   "source": [
    "from faker import Faker\n",
    "import numpy as np\n",
    "import pandas as pd"
   ]
  },
  {
   "cell_type": "code",
   "execution_count": 29,
   "id": "ec3ef4c1-011e-44bf-a7fe-520e67f78b1e",
   "metadata": {},
   "outputs": [],
   "source": [
    "fa_fake = Faker('fa')\n",
    "en_fake = Faker()"
   ]
  },
  {
   "cell_type": "code",
   "execution_count": 30,
   "id": "ba4dd103-a29b-417c-a7cb-9fc0a5307b84",
   "metadata": {},
   "outputs": [
    {
     "data": {
      "text/plain": [
       "'Robert Gutierrez'"
      ]
     },
     "execution_count": 30,
     "metadata": {},
     "output_type": "execute_result"
    }
   ],
   "source": [
    "en_fake.name()"
   ]
  },
  {
   "cell_type": "code",
   "execution_count": 31,
   "id": "420e60f4-32da-45e7-ba5d-d7663945ddd9",
   "metadata": {},
   "outputs": [
    {
     "data": {
      "text/plain": [
       "'محمدحسين قاضی'"
      ]
     },
     "execution_count": 31,
     "metadata": {},
     "output_type": "execute_result"
    }
   ],
   "source": [
    "fa_fake.name()"
   ]
  },
  {
   "cell_type": "code",
   "execution_count": 32,
   "id": "4a0c2b7b-8a8f-4714-bf60-37b2a5b37fd9",
   "metadata": {},
   "outputs": [],
   "source": [
    "from names_dataset import NameDataset"
   ]
  },
  {
   "cell_type": "code",
   "execution_count": 33,
   "id": "40d8de2a-51da-4068-88a7-b0c3bb0164dd",
   "metadata": {},
   "outputs": [],
   "source": [
    "#create object\n",
    "nd = NameDataset()"
   ]
  },
  {
   "cell_type": "code",
   "execution_count": 34,
   "id": "85c56838-6190-45bc-915d-3a2aaf40f8ed",
   "metadata": {
    "scrolled": true
   },
   "outputs": [
    {
     "data": {
      "text/plain": [
       "{'first_name': {'country': {'Bangladesh': 0.184,\n",
       "   'Canada': 0.059,\n",
       "   'Germany': 0.07,\n",
       "   'Egypt': 0.042,\n",
       "   'United Kingdom': 0.046,\n",
       "   'Iraq': 0.084,\n",
       "   'Iran, Islamic Republic of': 0.284,\n",
       "   'Saudi Arabia': 0.04,\n",
       "   'Turkey': 0.044,\n",
       "   'United States': 0.148},\n",
       "  'gender': {'Female': 0.948, 'Male': 0.052},\n",
       "  'rank': {'Bangladesh': 407,\n",
       "   'Canada': 936,\n",
       "   'Germany': 1226,\n",
       "   'Egypt': 8726,\n",
       "   'United Kingdom': 2487,\n",
       "   'Iraq': 3207,\n",
       "   'Iran, Islamic Republic of': 269,\n",
       "   'Saudi Arabia': 10287,\n",
       "   'Turkey': 3564,\n",
       "   'United States': 3419}},\n",
       " 'last_name': {'country': {'United Arab Emirates': 0.056,\n",
       "   'Bangladesh': 0.415,\n",
       "   'Germany': 0.058,\n",
       "   'Israel': 0.054,\n",
       "   'Iraq': 0.055,\n",
       "   'Iran, Islamic Republic of': 0.141,\n",
       "   'Russian Federation': 0.051,\n",
       "   'Saudi Arabia': 0.075,\n",
       "   'Turkey': 0.043,\n",
       "   'United States': 0.051},\n",
       "  'gender': {},\n",
       "  'rank': {'United Arab Emirates': 10112,\n",
       "   'Bangladesh': 1164,\n",
       "   'Germany': 14879,\n",
       "   'Israel': 10724,\n",
       "   'Iran, Islamic Republic of': 3096,\n",
       "   'Iraq': None,\n",
       "   'Russian Federation': None,\n",
       "   'Saudi Arabia': None,\n",
       "   'Turkey': None,\n",
       "   'United States': None}}}"
      ]
     },
     "execution_count": 34,
     "metadata": {},
     "output_type": "execute_result"
    }
   ],
   "source": [
    "nd.search('shirin')"
   ]
  },
  {
   "cell_type": "code",
   "execution_count": 37,
   "id": "37e4fb95-3782-42b8-89f2-733fc2897cc7",
   "metadata": {},
   "outputs": [],
   "source": [
    "def make_name():\n",
    "    if np.random.rand() > 0.5:\n",
    "        return en_fake.name()\n",
    "    return fa_fake.name()"
   ]
  },
  {
   "cell_type": "code",
   "execution_count": 38,
   "id": "b4542ba8-148d-4bb5-afc2-96f2ae12be40",
   "metadata": {},
   "outputs": [
    {
     "data": {
      "text/plain": [
       "'Amy Benson'"
      ]
     },
     "execution_count": 38,
     "metadata": {},
     "output_type": "execute_result"
    }
   ],
   "source": [
    "make_name()"
   ]
  },
  {
   "cell_type": "code",
   "execution_count": 39,
   "id": "ba02d409-a3c1-498e-968a-f48a54efeee9",
   "metadata": {},
   "outputs": [],
   "source": [
    "df = pd.DataFrame({\n",
    "    'Name' : [make_name() for _ in range(20)]\n",
    "})"
   ]
  },
  {
   "cell_type": "code",
   "execution_count": 40,
   "id": "13f1abc9-484c-4313-ae56-d168d9d68d4f",
   "metadata": {},
   "outputs": [
    {
     "data": {
      "text/html": [
       "<div>\n",
       "<style scoped>\n",
       "    .dataframe tbody tr th:only-of-type {\n",
       "        vertical-align: middle;\n",
       "    }\n",
       "\n",
       "    .dataframe tbody tr th {\n",
       "        vertical-align: top;\n",
       "    }\n",
       "\n",
       "    .dataframe thead th {\n",
       "        text-align: right;\n",
       "    }\n",
       "</style>\n",
       "<table border=\"1\" class=\"dataframe\">\n",
       "  <thead>\n",
       "    <tr style=\"text-align: right;\">\n",
       "      <th></th>\n",
       "      <th>Name</th>\n",
       "    </tr>\n",
       "  </thead>\n",
       "  <tbody>\n",
       "    <tr>\n",
       "      <th>0</th>\n",
       "      <td>Andrew Sloan</td>\n",
       "    </tr>\n",
       "    <tr>\n",
       "      <th>1</th>\n",
       "      <td>Amy Nolan</td>\n",
       "    </tr>\n",
       "    <tr>\n",
       "      <th>2</th>\n",
       "      <td>Justin Koch</td>\n",
       "    </tr>\n",
       "    <tr>\n",
       "      <th>3</th>\n",
       "      <td>Brian Grant</td>\n",
       "    </tr>\n",
       "    <tr>\n",
       "      <th>4</th>\n",
       "      <td>سارا تهرانی</td>\n",
       "    </tr>\n",
       "    <tr>\n",
       "      <th>5</th>\n",
       "      <td>یوسف بهمنی</td>\n",
       "    </tr>\n",
       "    <tr>\n",
       "      <th>6</th>\n",
       "      <td>هليا بهمنی</td>\n",
       "    </tr>\n",
       "    <tr>\n",
       "      <th>7</th>\n",
       "      <td>سرکار خانم دکتر یسنا زنجانی</td>\n",
       "    </tr>\n",
       "    <tr>\n",
       "      <th>8</th>\n",
       "      <td>عرفان تحسینی</td>\n",
       "    </tr>\n",
       "    <tr>\n",
       "      <th>9</th>\n",
       "      <td>علی اصغر عزیزی</td>\n",
       "    </tr>\n",
       "    <tr>\n",
       "      <th>10</th>\n",
       "      <td>Brandon Woods</td>\n",
       "    </tr>\n",
       "    <tr>\n",
       "      <th>11</th>\n",
       "      <td>آريا هاشمی</td>\n",
       "    </tr>\n",
       "    <tr>\n",
       "      <th>12</th>\n",
       "      <td>ثنا رسته</td>\n",
       "    </tr>\n",
       "    <tr>\n",
       "      <th>13</th>\n",
       "      <td>علی ابوطالبی</td>\n",
       "    </tr>\n",
       "    <tr>\n",
       "      <th>14</th>\n",
       "      <td>Richard Shaffer</td>\n",
       "    </tr>\n",
       "    <tr>\n",
       "      <th>15</th>\n",
       "      <td>Tiffany May</td>\n",
       "    </tr>\n",
       "    <tr>\n",
       "      <th>16</th>\n",
       "      <td>سینا ضرغامی</td>\n",
       "    </tr>\n",
       "    <tr>\n",
       "      <th>17</th>\n",
       "      <td>Kelly Terry</td>\n",
       "    </tr>\n",
       "    <tr>\n",
       "      <th>18</th>\n",
       "      <td>Derek Smith</td>\n",
       "    </tr>\n",
       "    <tr>\n",
       "      <th>19</th>\n",
       "      <td>Susan Baldwin</td>\n",
       "    </tr>\n",
       "  </tbody>\n",
       "</table>\n",
       "</div>"
      ],
      "text/plain": [
       "                           Name\n",
       "0                  Andrew Sloan\n",
       "1                     Amy Nolan\n",
       "2                   Justin Koch\n",
       "3                   Brian Grant\n",
       "4                   سارا تهرانی\n",
       "5                    یوسف بهمنی\n",
       "6                    هليا بهمنی\n",
       "7   سرکار خانم دکتر یسنا زنجانی\n",
       "8                  عرفان تحسینی\n",
       "9                علی اصغر عزیزی\n",
       "10                Brandon Woods\n",
       "11                   آريا هاشمی\n",
       "12                     ثنا رسته\n",
       "13                 علی ابوطالبی\n",
       "14              Richard Shaffer\n",
       "15                  Tiffany May\n",
       "16                  سینا ضرغامی\n",
       "17                  Kelly Terry\n",
       "18                  Derek Smith\n",
       "19                Susan Baldwin"
      ]
     },
     "execution_count": 40,
     "metadata": {},
     "output_type": "execute_result"
    }
   ],
   "source": [
    "df"
   ]
  },
  {
   "cell_type": "markdown",
   "id": "fe8df5b5-2641-4048-a9c5-33f300110a1b",
   "metadata": {},
   "source": [
    "## Extract first name and last name"
   ]
  },
  {
   "cell_type": "code",
   "execution_count": 41,
   "id": "796ab8ad-4deb-4919-8ea3-d8a5729e7bbe",
   "metadata": {},
   "outputs": [],
   "source": [
    "full_name = fa_fake.name()"
   ]
  },
  {
   "cell_type": "code",
   "execution_count": 42,
   "id": "9f8bcae3-66bc-42c8-b3b7-f6198a32ddc8",
   "metadata": {},
   "outputs": [],
   "source": [
    "first_name, *_, last_name = full_name.split()"
   ]
  },
  {
   "cell_type": "code",
   "execution_count": 43,
   "id": "735f2675-9410-4b54-9f36-a513d6af4502",
   "metadata": {},
   "outputs": [
    {
     "data": {
      "text/plain": [
       "'حسين'"
      ]
     },
     "execution_count": 43,
     "metadata": {},
     "output_type": "execute_result"
    }
   ],
   "source": [
    "first_name"
   ]
  },
  {
   "cell_type": "code",
   "execution_count": 44,
   "id": "15885bb8-6c8e-4aa7-b9d7-d92c2d38534b",
   "metadata": {},
   "outputs": [],
   "source": [
    "def split_name_family(name):\n",
    "    name, *_, last_name = full_name.split()\n",
    "    return name, last_name\n",
    "    "
   ]
  },
  {
   "cell_type": "code",
   "execution_count": 45,
   "id": "517ae4be-d61f-480c-9859-0a623bb9b71c",
   "metadata": {},
   "outputs": [],
   "source": [
    "df['First Name'] = df[\"Name\"].apply(\n",
    "    lambda full_name: full_name.split()[0]\n",
    ")"
   ]
  },
  {
   "cell_type": "code",
   "execution_count": 46,
   "id": "3e9eb4af-0783-4dcd-9a46-b5eef9ae8bcb",
   "metadata": {},
   "outputs": [],
   "source": [
    "df['Last Name'] = df[\"Name\"].apply(\n",
    "    lambda full_name: full_name.split()[1]\n",
    ")"
   ]
  },
  {
   "cell_type": "code",
   "execution_count": 47,
   "id": "43c28d5b-596a-4ab5-bae4-8ab72d7b9f08",
   "metadata": {},
   "outputs": [
    {
     "data": {
      "text/html": [
       "<div>\n",
       "<style scoped>\n",
       "    .dataframe tbody tr th:only-of-type {\n",
       "        vertical-align: middle;\n",
       "    }\n",
       "\n",
       "    .dataframe tbody tr th {\n",
       "        vertical-align: top;\n",
       "    }\n",
       "\n",
       "    .dataframe thead th {\n",
       "        text-align: right;\n",
       "    }\n",
       "</style>\n",
       "<table border=\"1\" class=\"dataframe\">\n",
       "  <thead>\n",
       "    <tr style=\"text-align: right;\">\n",
       "      <th></th>\n",
       "      <th>Name</th>\n",
       "      <th>First Name</th>\n",
       "      <th>Last Name</th>\n",
       "    </tr>\n",
       "  </thead>\n",
       "  <tbody>\n",
       "    <tr>\n",
       "      <th>0</th>\n",
       "      <td>Andrew Sloan</td>\n",
       "      <td>Andrew</td>\n",
       "      <td>Sloan</td>\n",
       "    </tr>\n",
       "    <tr>\n",
       "      <th>1</th>\n",
       "      <td>Amy Nolan</td>\n",
       "      <td>Amy</td>\n",
       "      <td>Nolan</td>\n",
       "    </tr>\n",
       "    <tr>\n",
       "      <th>2</th>\n",
       "      <td>Justin Koch</td>\n",
       "      <td>Justin</td>\n",
       "      <td>Koch</td>\n",
       "    </tr>\n",
       "    <tr>\n",
       "      <th>3</th>\n",
       "      <td>Brian Grant</td>\n",
       "      <td>Brian</td>\n",
       "      <td>Grant</td>\n",
       "    </tr>\n",
       "    <tr>\n",
       "      <th>4</th>\n",
       "      <td>سارا تهرانی</td>\n",
       "      <td>سارا</td>\n",
       "      <td>تهرانی</td>\n",
       "    </tr>\n",
       "    <tr>\n",
       "      <th>5</th>\n",
       "      <td>یوسف بهمنی</td>\n",
       "      <td>یوسف</td>\n",
       "      <td>بهمنی</td>\n",
       "    </tr>\n",
       "    <tr>\n",
       "      <th>6</th>\n",
       "      <td>هليا بهمنی</td>\n",
       "      <td>هليا</td>\n",
       "      <td>بهمنی</td>\n",
       "    </tr>\n",
       "    <tr>\n",
       "      <th>7</th>\n",
       "      <td>سرکار خانم دکتر یسنا زنجانی</td>\n",
       "      <td>سرکار</td>\n",
       "      <td>خانم</td>\n",
       "    </tr>\n",
       "    <tr>\n",
       "      <th>8</th>\n",
       "      <td>عرفان تحسینی</td>\n",
       "      <td>عرفان</td>\n",
       "      <td>تحسینی</td>\n",
       "    </tr>\n",
       "    <tr>\n",
       "      <th>9</th>\n",
       "      <td>علی اصغر عزیزی</td>\n",
       "      <td>علی</td>\n",
       "      <td>اصغر</td>\n",
       "    </tr>\n",
       "    <tr>\n",
       "      <th>10</th>\n",
       "      <td>Brandon Woods</td>\n",
       "      <td>Brandon</td>\n",
       "      <td>Woods</td>\n",
       "    </tr>\n",
       "    <tr>\n",
       "      <th>11</th>\n",
       "      <td>آريا هاشمی</td>\n",
       "      <td>آريا</td>\n",
       "      <td>هاشمی</td>\n",
       "    </tr>\n",
       "    <tr>\n",
       "      <th>12</th>\n",
       "      <td>ثنا رسته</td>\n",
       "      <td>ثنا</td>\n",
       "      <td>رسته</td>\n",
       "    </tr>\n",
       "    <tr>\n",
       "      <th>13</th>\n",
       "      <td>علی ابوطالبی</td>\n",
       "      <td>علی</td>\n",
       "      <td>ابوطالبی</td>\n",
       "    </tr>\n",
       "    <tr>\n",
       "      <th>14</th>\n",
       "      <td>Richard Shaffer</td>\n",
       "      <td>Richard</td>\n",
       "      <td>Shaffer</td>\n",
       "    </tr>\n",
       "    <tr>\n",
       "      <th>15</th>\n",
       "      <td>Tiffany May</td>\n",
       "      <td>Tiffany</td>\n",
       "      <td>May</td>\n",
       "    </tr>\n",
       "    <tr>\n",
       "      <th>16</th>\n",
       "      <td>سینا ضرغامی</td>\n",
       "      <td>سینا</td>\n",
       "      <td>ضرغامی</td>\n",
       "    </tr>\n",
       "    <tr>\n",
       "      <th>17</th>\n",
       "      <td>Kelly Terry</td>\n",
       "      <td>Kelly</td>\n",
       "      <td>Terry</td>\n",
       "    </tr>\n",
       "    <tr>\n",
       "      <th>18</th>\n",
       "      <td>Derek Smith</td>\n",
       "      <td>Derek</td>\n",
       "      <td>Smith</td>\n",
       "    </tr>\n",
       "    <tr>\n",
       "      <th>19</th>\n",
       "      <td>Susan Baldwin</td>\n",
       "      <td>Susan</td>\n",
       "      <td>Baldwin</td>\n",
       "    </tr>\n",
       "  </tbody>\n",
       "</table>\n",
       "</div>"
      ],
      "text/plain": [
       "                           Name First Name Last Name\n",
       "0                  Andrew Sloan     Andrew     Sloan\n",
       "1                     Amy Nolan        Amy     Nolan\n",
       "2                   Justin Koch     Justin      Koch\n",
       "3                   Brian Grant      Brian     Grant\n",
       "4                   سارا تهرانی       سارا    تهرانی\n",
       "5                    یوسف بهمنی       یوسف     بهمنی\n",
       "6                    هليا بهمنی       هليا     بهمنی\n",
       "7   سرکار خانم دکتر یسنا زنجانی      سرکار      خانم\n",
       "8                  عرفان تحسینی      عرفان    تحسینی\n",
       "9                علی اصغر عزیزی        علی      اصغر\n",
       "10                Brandon Woods    Brandon     Woods\n",
       "11                   آريا هاشمی       آريا     هاشمی\n",
       "12                     ثنا رسته        ثنا      رسته\n",
       "13                 علی ابوطالبی        علی  ابوطالبی\n",
       "14              Richard Shaffer    Richard   Shaffer\n",
       "15                  Tiffany May    Tiffany       May\n",
       "16                  سینا ضرغامی       سینا    ضرغامی\n",
       "17                  Kelly Terry      Kelly     Terry\n",
       "18                  Derek Smith      Derek     Smith\n",
       "19                Susan Baldwin      Susan   Baldwin"
      ]
     },
     "execution_count": 47,
     "metadata": {},
     "output_type": "execute_result"
    }
   ],
   "source": [
    "df"
   ]
  },
  {
   "cell_type": "markdown",
   "id": "3f4b848e-6e92-426e-8ea6-2a60c12a3c9f",
   "metadata": {},
   "source": [
    "## Predict Gender"
   ]
  },
  {
   "cell_type": "code",
   "execution_count": 48,
   "id": "8d0cd89f-ca4d-4956-ac23-02b009b5ac8f",
   "metadata": {},
   "outputs": [
    {
     "data": {
      "text/plain": [
       "dict_keys(['country', 'gender', 'rank'])"
      ]
     },
     "execution_count": 48,
     "metadata": {},
     "output_type": "execute_result"
    }
   ],
   "source": [
    "nd.search('shirin')['first_name'].keys()"
   ]
  },
  {
   "cell_type": "code",
   "execution_count": 49,
   "id": "76dec04b-79e6-4e22-aff2-19db9e58a735",
   "metadata": {},
   "outputs": [
    {
     "data": {
      "text/plain": [
       "{'Female': 0.948, 'Male': 0.052}"
      ]
     },
     "execution_count": 49,
     "metadata": {},
     "output_type": "execute_result"
    }
   ],
   "source": [
    "nd.search('shirin')['first_name']['gender'] #we want the key with max prob for gender"
   ]
  },
  {
   "cell_type": "code",
   "execution_count": 52,
   "id": "a48d61f7-af8f-4d17-bc4e-b73a93d9c267",
   "metadata": {},
   "outputs": [],
   "source": [
    "def gender(first_name):\n",
    "    info =  nd.search(first_name)['first_name']\n",
    "    if info is None: #edge case check\n",
    "        return \n",
    "    return max(info['gender'], key=info['gender'].get)"
   ]
  },
  {
   "cell_type": "code",
   "execution_count": 53,
   "id": "4564de93-e6f8-4b8f-b2c4-20ad4420ce8e",
   "metadata": {},
   "outputs": [
    {
     "data": {
      "text/plain": [
       "'Female'"
      ]
     },
     "execution_count": 53,
     "metadata": {},
     "output_type": "execute_result"
    }
   ],
   "source": [
    "gender(\"shirin\")"
   ]
  },
  {
   "cell_type": "code",
   "execution_count": 54,
   "id": "c459ab1a-9cab-41a5-aa62-92d8eaba4eb3",
   "metadata": {},
   "outputs": [],
   "source": [
    "df['gender'] = df['First Name'].apply(\n",
    "    gender\n",
    ")"
   ]
  },
  {
   "cell_type": "code",
   "execution_count": 55,
   "id": "599cd77e-a832-43a6-abc1-031e844a4a27",
   "metadata": {},
   "outputs": [
    {
     "data": {
      "text/html": [
       "<div>\n",
       "<style scoped>\n",
       "    .dataframe tbody tr th:only-of-type {\n",
       "        vertical-align: middle;\n",
       "    }\n",
       "\n",
       "    .dataframe tbody tr th {\n",
       "        vertical-align: top;\n",
       "    }\n",
       "\n",
       "    .dataframe thead th {\n",
       "        text-align: right;\n",
       "    }\n",
       "</style>\n",
       "<table border=\"1\" class=\"dataframe\">\n",
       "  <thead>\n",
       "    <tr style=\"text-align: right;\">\n",
       "      <th></th>\n",
       "      <th>Name</th>\n",
       "      <th>First Name</th>\n",
       "      <th>Last Name</th>\n",
       "      <th>gender</th>\n",
       "    </tr>\n",
       "  </thead>\n",
       "  <tbody>\n",
       "    <tr>\n",
       "      <th>0</th>\n",
       "      <td>Andrew Sloan</td>\n",
       "      <td>Andrew</td>\n",
       "      <td>Sloan</td>\n",
       "      <td>Male</td>\n",
       "    </tr>\n",
       "    <tr>\n",
       "      <th>1</th>\n",
       "      <td>Amy Nolan</td>\n",
       "      <td>Amy</td>\n",
       "      <td>Nolan</td>\n",
       "      <td>Female</td>\n",
       "    </tr>\n",
       "    <tr>\n",
       "      <th>2</th>\n",
       "      <td>Justin Koch</td>\n",
       "      <td>Justin</td>\n",
       "      <td>Koch</td>\n",
       "      <td>Male</td>\n",
       "    </tr>\n",
       "    <tr>\n",
       "      <th>3</th>\n",
       "      <td>Brian Grant</td>\n",
       "      <td>Brian</td>\n",
       "      <td>Grant</td>\n",
       "      <td>Male</td>\n",
       "    </tr>\n",
       "    <tr>\n",
       "      <th>4</th>\n",
       "      <td>سارا تهرانی</td>\n",
       "      <td>سارا</td>\n",
       "      <td>تهرانی</td>\n",
       "      <td>Female</td>\n",
       "    </tr>\n",
       "    <tr>\n",
       "      <th>5</th>\n",
       "      <td>یوسف بهمنی</td>\n",
       "      <td>یوسف</td>\n",
       "      <td>بهمنی</td>\n",
       "      <td>Male</td>\n",
       "    </tr>\n",
       "    <tr>\n",
       "      <th>6</th>\n",
       "      <td>هليا بهمنی</td>\n",
       "      <td>هليا</td>\n",
       "      <td>بهمنی</td>\n",
       "      <td>None</td>\n",
       "    </tr>\n",
       "    <tr>\n",
       "      <th>7</th>\n",
       "      <td>سرکار خانم دکتر یسنا زنجانی</td>\n",
       "      <td>سرکار</td>\n",
       "      <td>خانم</td>\n",
       "      <td>None</td>\n",
       "    </tr>\n",
       "    <tr>\n",
       "      <th>8</th>\n",
       "      <td>عرفان تحسینی</td>\n",
       "      <td>عرفان</td>\n",
       "      <td>تحسینی</td>\n",
       "      <td>Male</td>\n",
       "    </tr>\n",
       "    <tr>\n",
       "      <th>9</th>\n",
       "      <td>علی اصغر عزیزی</td>\n",
       "      <td>علی</td>\n",
       "      <td>اصغر</td>\n",
       "      <td>Male</td>\n",
       "    </tr>\n",
       "    <tr>\n",
       "      <th>10</th>\n",
       "      <td>Brandon Woods</td>\n",
       "      <td>Brandon</td>\n",
       "      <td>Woods</td>\n",
       "      <td>Male</td>\n",
       "    </tr>\n",
       "    <tr>\n",
       "      <th>11</th>\n",
       "      <td>آريا هاشمی</td>\n",
       "      <td>آريا</td>\n",
       "      <td>هاشمی</td>\n",
       "      <td>None</td>\n",
       "    </tr>\n",
       "    <tr>\n",
       "      <th>12</th>\n",
       "      <td>ثنا رسته</td>\n",
       "      <td>ثنا</td>\n",
       "      <td>رسته</td>\n",
       "      <td>Female</td>\n",
       "    </tr>\n",
       "    <tr>\n",
       "      <th>13</th>\n",
       "      <td>علی ابوطالبی</td>\n",
       "      <td>علی</td>\n",
       "      <td>ابوطالبی</td>\n",
       "      <td>Male</td>\n",
       "    </tr>\n",
       "    <tr>\n",
       "      <th>14</th>\n",
       "      <td>Richard Shaffer</td>\n",
       "      <td>Richard</td>\n",
       "      <td>Shaffer</td>\n",
       "      <td>Male</td>\n",
       "    </tr>\n",
       "    <tr>\n",
       "      <th>15</th>\n",
       "      <td>Tiffany May</td>\n",
       "      <td>Tiffany</td>\n",
       "      <td>May</td>\n",
       "      <td>Female</td>\n",
       "    </tr>\n",
       "    <tr>\n",
       "      <th>16</th>\n",
       "      <td>سینا ضرغامی</td>\n",
       "      <td>سینا</td>\n",
       "      <td>ضرغامی</td>\n",
       "      <td>Male</td>\n",
       "    </tr>\n",
       "    <tr>\n",
       "      <th>17</th>\n",
       "      <td>Kelly Terry</td>\n",
       "      <td>Kelly</td>\n",
       "      <td>Terry</td>\n",
       "      <td>Female</td>\n",
       "    </tr>\n",
       "    <tr>\n",
       "      <th>18</th>\n",
       "      <td>Derek Smith</td>\n",
       "      <td>Derek</td>\n",
       "      <td>Smith</td>\n",
       "      <td>Male</td>\n",
       "    </tr>\n",
       "    <tr>\n",
       "      <th>19</th>\n",
       "      <td>Susan Baldwin</td>\n",
       "      <td>Susan</td>\n",
       "      <td>Baldwin</td>\n",
       "      <td>Female</td>\n",
       "    </tr>\n",
       "  </tbody>\n",
       "</table>\n",
       "</div>"
      ],
      "text/plain": [
       "                           Name First Name Last Name  gender\n",
       "0                  Andrew Sloan     Andrew     Sloan    Male\n",
       "1                     Amy Nolan        Amy     Nolan  Female\n",
       "2                   Justin Koch     Justin      Koch    Male\n",
       "3                   Brian Grant      Brian     Grant    Male\n",
       "4                   سارا تهرانی       سارا    تهرانی  Female\n",
       "5                    یوسف بهمنی       یوسف     بهمنی    Male\n",
       "6                    هليا بهمنی       هليا     بهمنی    None\n",
       "7   سرکار خانم دکتر یسنا زنجانی      سرکار      خانم    None\n",
       "8                  عرفان تحسینی      عرفان    تحسینی    Male\n",
       "9                علی اصغر عزیزی        علی      اصغر    Male\n",
       "10                Brandon Woods    Brandon     Woods    Male\n",
       "11                   آريا هاشمی       آريا     هاشمی    None\n",
       "12                     ثنا رسته        ثنا      رسته  Female\n",
       "13                 علی ابوطالبی        علی  ابوطالبی    Male\n",
       "14              Richard Shaffer    Richard   Shaffer    Male\n",
       "15                  Tiffany May    Tiffany       May  Female\n",
       "16                  سینا ضرغامی       سینا    ضرغامی    Male\n",
       "17                  Kelly Terry      Kelly     Terry  Female\n",
       "18                  Derek Smith      Derek     Smith    Male\n",
       "19                Susan Baldwin      Susan   Baldwin  Female"
      ]
     },
     "execution_count": 55,
     "metadata": {},
     "output_type": "execute_result"
    }
   ],
   "source": [
    "df"
   ]
  },
  {
   "cell_type": "code",
   "execution_count": null,
   "id": "b85588fc-9444-4c50-840a-b095d417bbab",
   "metadata": {},
   "outputs": [],
   "source": []
  }
 ],
 "metadata": {
  "kernelspec": {
   "display_name": "Python 3 (ipykernel)",
   "language": "python",
   "name": "python3"
  },
  "language_info": {
   "codemirror_mode": {
    "name": "ipython",
    "version": 3
   },
   "file_extension": ".py",
   "mimetype": "text/x-python",
   "name": "python",
   "nbconvert_exporter": "python",
   "pygments_lexer": "ipython3",
   "version": "3.10.12"
  }
 },
 "nbformat": 4,
 "nbformat_minor": 5
}
