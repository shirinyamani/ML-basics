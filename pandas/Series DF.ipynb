{
 "cells": [
  {
   "cell_type": "code",
   "execution_count": 42,
   "id": "56434e2d-d6ee-48f2-959a-ec59127963a5",
   "metadata": {},
   "outputs": [],
   "source": [
    "import numpy as np\n",
    "import pandas as pd\n",
    "from faker import Faker\n",
    "fake = Faker('fa')"
   ]
  },
  {
   "cell_type": "markdown",
   "id": "ae15f04c-aa68-45d6-92fd-1b70593dbbde",
   "metadata": {},
   "source": [
    "## Series"
   ]
  },
  {
   "cell_type": "code",
   "execution_count": 39,
   "id": "64bae64a-555d-442b-87f9-e2df8ce2dfc5",
   "metadata": {},
   "outputs": [
    {
     "data": {
      "text/plain": [
       "array([1, 2, 3])"
      ]
     },
     "execution_count": 39,
     "metadata": {},
     "output_type": "execute_result"
    }
   ],
   "source": [
    "np.array([1,2,3]) #1-D #Series\n"
   ]
  },
  {
   "cell_type": "markdown",
   "id": "244c82ca-d06b-4697-9656-54aecdeeaa38",
   "metadata": {},
   "source": [
    "np.random.randin(3,4)"
   ]
  },
  {
   "cell_type": "code",
   "execution_count": 6,
   "id": "59117d85-7f3e-4f03-b24b-adc729aeab74",
   "metadata": {},
   "outputs": [
    {
     "data": {
      "text/plain": [
       "array([[0.67167589, 0.89006385, 0.54723017, 0.26073994],\n",
       "       [0.23344704, 0.9436706 , 0.14944798, 0.78893052],\n",
       "       [0.0763484 , 0.0448026 , 0.68563547, 0.12872417]])"
      ]
     },
     "execution_count": 6,
     "metadata": {},
     "output_type": "execute_result"
    }
   ],
   "source": [
    "np.random.rand(3,4) #2-D #DF"
   ]
  },
  {
   "cell_type": "code",
   "execution_count": 7,
   "id": "ab056350-b103-4bf6-95fd-a536b699a4ad",
   "metadata": {},
   "outputs": [
    {
     "data": {
      "text/plain": [
       "0    1\n",
       "1    2\n",
       "2    3\n",
       "dtype: int64"
      ]
     },
     "execution_count": 7,
     "metadata": {},
     "output_type": "execute_result"
    }
   ],
   "source": [
    "pd.Series([1,2,3]) #(data, index)"
   ]
  },
  {
   "cell_type": "code",
   "execution_count": 8,
   "id": "e5a2330c-352c-4938-b24d-4aad43546a87",
   "metadata": {},
   "outputs": [],
   "source": [
    "#pandas is on top numpy so lets create a series based on np\n",
    "s = pd.Series(np.random.randn(5),\n",
    "         index=['a','b', 'c', 'd', 'f'],\n",
    "         dtype= 'float32')"
   ]
  },
  {
   "cell_type": "code",
   "execution_count": 9,
   "id": "05ca3cf7-1b39-4463-b609-5540f1a550e4",
   "metadata": {},
   "outputs": [
    {
     "data": {
      "text/plain": [
       "a    0.953700\n",
       "b    1.299025\n",
       "c   -0.083773\n",
       "d    2.025198\n",
       "f   -0.126045\n",
       "dtype: float32"
      ]
     },
     "execution_count": 9,
     "metadata": {},
     "output_type": "execute_result"
    }
   ],
   "source": [
    "s"
   ]
  },
  {
   "cell_type": "code",
   "execution_count": 10,
   "id": "57578879-2583-47e6-b823-b77514cc7303",
   "metadata": {},
   "outputs": [
    {
     "data": {
      "text/plain": [
       "Index(['a', 'b', 'c', 'd', 'f'], dtype='object')"
      ]
     },
     "execution_count": 10,
     "metadata": {},
     "output_type": "execute_result"
    }
   ],
   "source": [
    "s.index"
   ]
  },
  {
   "cell_type": "code",
   "execution_count": 11,
   "id": "0d342295-7250-4a0b-9851-2ee180c931be",
   "metadata": {},
   "outputs": [
    {
     "data": {
      "text/plain": [
       "a    0.953700\n",
       "b    1.299025\n",
       "dtype: float32"
      ]
     },
     "execution_count": 11,
     "metadata": {},
     "output_type": "execute_result"
    }
   ],
   "source": [
    "s[:2]"
   ]
  },
  {
   "cell_type": "code",
   "execution_count": 12,
   "id": "11703a4c-3d39-4322-8219-d543683cb6f0",
   "metadata": {},
   "outputs": [
    {
     "data": {
      "text/plain": [
       "b    1.299025\n",
       "d    2.025198\n",
       "dtype: float32"
      ]
     },
     "execution_count": 12,
     "metadata": {},
     "output_type": "execute_result"
    }
   ],
   "source": [
    "s[s> s.median()]"
   ]
  },
  {
   "cell_type": "code",
   "execution_count": 13,
   "id": "39086659-d694-4657-9a63-5de4ae8e060e",
   "metadata": {},
   "outputs": [
    {
     "data": {
      "text/plain": [
       "0.9536998"
      ]
     },
     "execution_count": 13,
     "metadata": {},
     "output_type": "execute_result"
    }
   ],
   "source": [
    "s.median()"
   ]
  },
  {
   "cell_type": "code",
   "execution_count": 14,
   "id": "71c87051-95ad-4171-902e-37a99fe85014",
   "metadata": {},
   "outputs": [
    {
     "data": {
      "text/plain": [
       "dtype('float32')"
      ]
     },
     "execution_count": 14,
     "metadata": {},
     "output_type": "execute_result"
    }
   ],
   "source": [
    "s.dtype"
   ]
  },
  {
   "cell_type": "code",
   "execution_count": 15,
   "id": "45ebd032-bd4a-444b-ba5b-88d0fccd5e70",
   "metadata": {},
   "outputs": [
    {
     "data": {
      "text/plain": [
       "array([ 0.9536998 ,  1.2990249 , -0.08377292,  2.0251985 , -0.12604517],\n",
       "      dtype=float32)"
      ]
     },
     "execution_count": 15,
     "metadata": {},
     "output_type": "execute_result"
    }
   ],
   "source": [
    "s.to_numpy()"
   ]
  },
  {
   "cell_type": "markdown",
   "id": "14af29fe-3149-42e4-af12-b6994cd65a27",
   "metadata": {},
   "source": [
    "## Vectorized operations and label alignments w/ series"
   ]
  },
  {
   "cell_type": "code",
   "execution_count": 16,
   "id": "5f1e9327-8443-4fb1-8b70-40d9fb8f291c",
   "metadata": {},
   "outputs": [
    {
     "data": {
      "text/plain": [
       "a    1.907400\n",
       "b    2.598050\n",
       "c   -0.167546\n",
       "d    4.050397\n",
       "f   -0.252090\n",
       "dtype: float32"
      ]
     },
     "execution_count": 16,
     "metadata": {},
     "output_type": "execute_result"
    }
   ],
   "source": [
    "s +s"
   ]
  },
  {
   "cell_type": "code",
   "execution_count": 17,
   "id": "1e08251e-ec00-405e-a53f-c9e470febd4b",
   "metadata": {},
   "outputs": [
    {
     "data": {
      "text/plain": [
       "a    1.907400\n",
       "b    2.598050\n",
       "c   -0.167546\n",
       "d    4.050397\n",
       "f   -0.252090\n",
       "dtype: float32"
      ]
     },
     "execution_count": 17,
     "metadata": {},
     "output_type": "execute_result"
    }
   ],
   "source": [
    "s * 2"
   ]
  },
  {
   "cell_type": "code",
   "execution_count": 18,
   "id": "919c5053-9db4-4690-9c42-4d7dda26eeb3",
   "metadata": {},
   "outputs": [],
   "source": [
    "# create np array\n",
    "a = np.random.randn(4)"
   ]
  },
  {
   "cell_type": "code",
   "execution_count": 19,
   "id": "503fe554-9122-449f-93ab-7ce95fd5d6d1",
   "metadata": {},
   "outputs": [
    {
     "data": {
      "text/plain": [
       "array([0.30191376, 0.75591083, 0.44820358, 0.16470612])"
      ]
     },
     "execution_count": 19,
     "metadata": {},
     "output_type": "execute_result"
    }
   ],
   "source": [
    "a"
   ]
  },
  {
   "cell_type": "code",
   "execution_count": 20,
   "id": "62cfbe8a-fefe-42a8-ba2f-51e272f966d3",
   "metadata": {},
   "outputs": [
    {
     "data": {
      "text/plain": [
       "array([0.30191376, 0.75591083])"
      ]
     },
     "execution_count": 20,
     "metadata": {},
     "output_type": "execute_result"
    }
   ],
   "source": [
    "a[:2]"
   ]
  },
  {
   "cell_type": "code",
   "execution_count": 21,
   "id": "d676a32e-8809-4eaa-9b02-07e0d7981fbb",
   "metadata": {},
   "outputs": [
    {
     "data": {
      "text/plain": [
       "array([0.44820358, 0.16470612])"
      ]
     },
     "execution_count": 21,
     "metadata": {},
     "output_type": "execute_result"
    }
   ],
   "source": [
    "a[2:]"
   ]
  },
  {
   "cell_type": "code",
   "execution_count": 22,
   "id": "c4af5404-5ffc-4c97-b489-71ab181a5990",
   "metadata": {},
   "outputs": [
    {
     "data": {
      "text/plain": [
       "array([0.75011734, 0.92061695])"
      ]
     },
     "execution_count": 22,
     "metadata": {},
     "output_type": "execute_result"
    }
   ],
   "source": [
    "a[:2] + a[2:]"
   ]
  },
  {
   "cell_type": "code",
   "execution_count": 23,
   "id": "aa717efd-c894-49b8-a95d-e0f142e9f81d",
   "metadata": {},
   "outputs": [],
   "source": [
    "s = pd.Series(np.random.rand(4), index= ['a','b', 'c', 'd'])"
   ]
  },
  {
   "cell_type": "markdown",
   "id": "9bf606c5-a7e9-46cc-971e-1aeade7ebbba",
   "metadata": {},
   "source": [
    "## Numpy VS Pandas allignment in operatins!!!"
   ]
  },
  {
   "cell_type": "code",
   "execution_count": 24,
   "id": "72c42976-7745-467d-9ecd-0eb033fdeed5",
   "metadata": {},
   "outputs": [
    {
     "data": {
      "text/plain": [
       "a    0.189773\n",
       "b    0.677121\n",
       "c    0.989703\n",
       "d    0.609521\n",
       "dtype: float64"
      ]
     },
     "execution_count": 24,
     "metadata": {},
     "output_type": "execute_result"
    }
   ],
   "source": [
    "s"
   ]
  },
  {
   "cell_type": "code",
   "execution_count": 25,
   "id": "46f36ffd-a290-43e1-aaaa-ea54f86a1ea1",
   "metadata": {},
   "outputs": [
    {
     "data": {
      "text/plain": [
       "a    0.189773\n",
       "b    0.677121\n",
       "dtype: float64"
      ]
     },
     "execution_count": 25,
     "metadata": {},
     "output_type": "execute_result"
    }
   ],
   "source": [
    "s[:2]"
   ]
  },
  {
   "cell_type": "code",
   "execution_count": 26,
   "id": "c0ff174c-1ac8-41ac-a77e-e7532a1a8f11",
   "metadata": {},
   "outputs": [
    {
     "data": {
      "text/plain": [
       "b    0.677121\n",
       "c    0.989703\n",
       "d    0.609521\n",
       "dtype: float64"
      ]
     },
     "execution_count": 26,
     "metadata": {},
     "output_type": "execute_result"
    }
   ],
   "source": [
    "s[1:]"
   ]
  },
  {
   "cell_type": "code",
   "execution_count": 27,
   "id": "6fe73baa-3768-4ca4-9be8-841c659a0704",
   "metadata": {},
   "outputs": [
    {
     "data": {
      "text/plain": [
       "a         NaN\n",
       "b    1.354242\n",
       "c         NaN\n",
       "d         NaN\n",
       "dtype: float64"
      ]
     },
     "execution_count": 27,
     "metadata": {},
     "output_type": "execute_result"
    }
   ],
   "source": [
    "s[:2] +  s[1:]"
   ]
  },
  {
   "cell_type": "markdown",
   "id": "faa09f79-4b77-4efd-b77e-c740ddc3857f",
   "metadata": {},
   "source": [
    "## DataFrame"
   ]
  },
  {
   "cell_type": "code",
   "execution_count": 46,
   "id": "c5358a2a-8ee4-4aff-8dbf-50a1b7535adc",
   "metadata": {},
   "outputs": [],
   "source": [
    "#you can make Dataframe from a series \n",
    "d = {\n",
    "    'age' : pd.Series(np.random.randint(0,80, 15)),\n",
    "    'name' : pd.Series([fake.name() for i in range(20)])\n",
    "\n",
    "}"
   ]
  },
  {
   "cell_type": "code",
   "execution_count": 47,
   "id": "2851d299-9200-4991-bdd5-45dc5223a93f",
   "metadata": {},
   "outputs": [
    {
     "data": {
      "text/html": [
       "<div>\n",
       "<style scoped>\n",
       "    .dataframe tbody tr th:only-of-type {\n",
       "        vertical-align: middle;\n",
       "    }\n",
       "\n",
       "    .dataframe tbody tr th {\n",
       "        vertical-align: top;\n",
       "    }\n",
       "\n",
       "    .dataframe thead th {\n",
       "        text-align: right;\n",
       "    }\n",
       "</style>\n",
       "<table border=\"1\" class=\"dataframe\">\n",
       "  <thead>\n",
       "    <tr style=\"text-align: right;\">\n",
       "      <th></th>\n",
       "      <th>age</th>\n",
       "      <th>name</th>\n",
       "    </tr>\n",
       "  </thead>\n",
       "  <tbody>\n",
       "    <tr>\n",
       "      <th>0</th>\n",
       "      <td>57.0</td>\n",
       "      <td>آرش علیجانی</td>\n",
       "    </tr>\n",
       "    <tr>\n",
       "      <th>1</th>\n",
       "      <td>23.0</td>\n",
       "      <td>یگانه عبدالمالکی</td>\n",
       "    </tr>\n",
       "    <tr>\n",
       "      <th>2</th>\n",
       "      <td>27.0</td>\n",
       "      <td>ثنا سماوات</td>\n",
       "    </tr>\n",
       "    <tr>\n",
       "      <th>3</th>\n",
       "      <td>47.0</td>\n",
       "      <td>آيلين قاضی</td>\n",
       "    </tr>\n",
       "    <tr>\n",
       "      <th>4</th>\n",
       "      <td>32.0</td>\n",
       "      <td>بنيامين طلوعی</td>\n",
       "    </tr>\n",
       "    <tr>\n",
       "      <th>5</th>\n",
       "      <td>55.0</td>\n",
       "      <td>الینا هاشمی</td>\n",
       "    </tr>\n",
       "    <tr>\n",
       "      <th>6</th>\n",
       "      <td>21.0</td>\n",
       "      <td>معصومه نوری</td>\n",
       "    </tr>\n",
       "    <tr>\n",
       "      <th>7</th>\n",
       "      <td>51.0</td>\n",
       "      <td>نیایش سغیری</td>\n",
       "    </tr>\n",
       "    <tr>\n",
       "      <th>8</th>\n",
       "      <td>1.0</td>\n",
       "      <td>سرکار خانم دکتر پریا حریریان</td>\n",
       "    </tr>\n",
       "    <tr>\n",
       "      <th>9</th>\n",
       "      <td>66.0</td>\n",
       "      <td>باران جنتی</td>\n",
       "    </tr>\n",
       "    <tr>\n",
       "      <th>10</th>\n",
       "      <td>51.0</td>\n",
       "      <td>علیرضا منصوری</td>\n",
       "    </tr>\n",
       "    <tr>\n",
       "      <th>11</th>\n",
       "      <td>76.0</td>\n",
       "      <td>دانيال کرمانی</td>\n",
       "    </tr>\n",
       "    <tr>\n",
       "      <th>12</th>\n",
       "      <td>29.0</td>\n",
       "      <td>پارسا اشرفی</td>\n",
       "    </tr>\n",
       "    <tr>\n",
       "      <th>13</th>\n",
       "      <td>30.0</td>\n",
       "      <td>آوا وثاق</td>\n",
       "    </tr>\n",
       "    <tr>\n",
       "      <th>14</th>\n",
       "      <td>37.0</td>\n",
       "      <td>سرکار خانم دکتر مریم موسوی</td>\n",
       "    </tr>\n",
       "    <tr>\n",
       "      <th>15</th>\n",
       "      <td>NaN</td>\n",
       "      <td>معصومه رسولی</td>\n",
       "    </tr>\n",
       "    <tr>\n",
       "      <th>16</th>\n",
       "      <td>NaN</td>\n",
       "      <td>حسام نعمتی</td>\n",
       "    </tr>\n",
       "    <tr>\n",
       "      <th>17</th>\n",
       "      <td>NaN</td>\n",
       "      <td>محمدياسين عبدالعلی</td>\n",
       "    </tr>\n",
       "    <tr>\n",
       "      <th>18</th>\n",
       "      <td>NaN</td>\n",
       "      <td>یاسمین سعیدی</td>\n",
       "    </tr>\n",
       "    <tr>\n",
       "      <th>19</th>\n",
       "      <td>NaN</td>\n",
       "      <td>آيلين دادفر</td>\n",
       "    </tr>\n",
       "  </tbody>\n",
       "</table>\n",
       "</div>"
      ],
      "text/plain": [
       "     age                          name\n",
       "0   57.0                   آرش علیجانی\n",
       "1   23.0              یگانه عبدالمالکی\n",
       "2   27.0                    ثنا سماوات\n",
       "3   47.0                    آيلين قاضی\n",
       "4   32.0                 بنيامين طلوعی\n",
       "5   55.0                   الینا هاشمی\n",
       "6   21.0                   معصومه نوری\n",
       "7   51.0                   نیایش سغیری\n",
       "8    1.0  سرکار خانم دکتر پریا حریریان\n",
       "9   66.0                    باران جنتی\n",
       "10  51.0                 علیرضا منصوری\n",
       "11  76.0                 دانيال کرمانی\n",
       "12  29.0                   پارسا اشرفی\n",
       "13  30.0                      آوا وثاق\n",
       "14  37.0    سرکار خانم دکتر مریم موسوی\n",
       "15   NaN                  معصومه رسولی\n",
       "16   NaN                    حسام نعمتی\n",
       "17   NaN            محمدياسين عبدالعلی\n",
       "18   NaN                  یاسمین سعیدی\n",
       "19   NaN                   آيلين دادفر"
      ]
     },
     "execution_count": 47,
     "metadata": {},
     "output_type": "execute_result"
    }
   ],
   "source": [
    "pd.DataFrame(d)"
   ]
  },
  {
   "cell_type": "code",
   "execution_count": 48,
   "id": "d1dc0a7e-9839-461e-8635-282c2f1021f7",
   "metadata": {},
   "outputs": [
    {
     "data": {
      "text/html": [
       "<div>\n",
       "<style scoped>\n",
       "    .dataframe tbody tr th:only-of-type {\n",
       "        vertical-align: middle;\n",
       "    }\n",
       "\n",
       "    .dataframe tbody tr th {\n",
       "        vertical-align: top;\n",
       "    }\n",
       "\n",
       "    .dataframe thead th {\n",
       "        text-align: right;\n",
       "    }\n",
       "</style>\n",
       "<table border=\"1\" class=\"dataframe\">\n",
       "  <thead>\n",
       "    <tr style=\"text-align: right;\">\n",
       "      <th></th>\n",
       "      <th>age</th>\n",
       "    </tr>\n",
       "  </thead>\n",
       "  <tbody>\n",
       "    <tr>\n",
       "      <th>0</th>\n",
       "      <td>57</td>\n",
       "    </tr>\n",
       "    <tr>\n",
       "      <th>1</th>\n",
       "      <td>23</td>\n",
       "    </tr>\n",
       "    <tr>\n",
       "      <th>2</th>\n",
       "      <td>27</td>\n",
       "    </tr>\n",
       "    <tr>\n",
       "      <th>3</th>\n",
       "      <td>47</td>\n",
       "    </tr>\n",
       "    <tr>\n",
       "      <th>4</th>\n",
       "      <td>32</td>\n",
       "    </tr>\n",
       "    <tr>\n",
       "      <th>5</th>\n",
       "      <td>55</td>\n",
       "    </tr>\n",
       "    <tr>\n",
       "      <th>6</th>\n",
       "      <td>21</td>\n",
       "    </tr>\n",
       "    <tr>\n",
       "      <th>7</th>\n",
       "      <td>51</td>\n",
       "    </tr>\n",
       "    <tr>\n",
       "      <th>8</th>\n",
       "      <td>1</td>\n",
       "    </tr>\n",
       "    <tr>\n",
       "      <th>9</th>\n",
       "      <td>66</td>\n",
       "    </tr>\n",
       "    <tr>\n",
       "      <th>10</th>\n",
       "      <td>51</td>\n",
       "    </tr>\n",
       "    <tr>\n",
       "      <th>11</th>\n",
       "      <td>76</td>\n",
       "    </tr>\n",
       "    <tr>\n",
       "      <th>12</th>\n",
       "      <td>29</td>\n",
       "    </tr>\n",
       "    <tr>\n",
       "      <th>13</th>\n",
       "      <td>30</td>\n",
       "    </tr>\n",
       "    <tr>\n",
       "      <th>14</th>\n",
       "      <td>37</td>\n",
       "    </tr>\n",
       "  </tbody>\n",
       "</table>\n",
       "</div>"
      ],
      "text/plain": [
       "    age\n",
       "0    57\n",
       "1    23\n",
       "2    27\n",
       "3    47\n",
       "4    32\n",
       "5    55\n",
       "6    21\n",
       "7    51\n",
       "8     1\n",
       "9    66\n",
       "10   51\n",
       "11   76\n",
       "12   29\n",
       "13   30\n",
       "14   37"
      ]
     },
     "execution_count": 48,
     "metadata": {},
     "output_type": "execute_result"
    }
   ],
   "source": [
    "pd.DataFrame(d, columns=['age'])"
   ]
  },
  {
   "cell_type": "code",
   "execution_count": 50,
   "id": "761c5c73-870e-4b14-a978-73d7a4447acd",
   "metadata": {},
   "outputs": [],
   "source": [
    "df = pd.DataFrame(d)"
   ]
  },
  {
   "cell_type": "code",
   "execution_count": 51,
   "id": "cbc3e652-ebdf-4366-9fc1-4e2e0deb21c2",
   "metadata": {},
   "outputs": [
    {
     "data": {
      "text/html": [
       "<div>\n",
       "<style scoped>\n",
       "    .dataframe tbody tr th:only-of-type {\n",
       "        vertical-align: middle;\n",
       "    }\n",
       "\n",
       "    .dataframe tbody tr th {\n",
       "        vertical-align: top;\n",
       "    }\n",
       "\n",
       "    .dataframe thead th {\n",
       "        text-align: right;\n",
       "    }\n",
       "</style>\n",
       "<table border=\"1\" class=\"dataframe\">\n",
       "  <thead>\n",
       "    <tr style=\"text-align: right;\">\n",
       "      <th></th>\n",
       "      <th>age</th>\n",
       "      <th>name</th>\n",
       "    </tr>\n",
       "  </thead>\n",
       "  <tbody>\n",
       "    <tr>\n",
       "      <th>0</th>\n",
       "      <td>57.0</td>\n",
       "      <td>آرش علیجانی</td>\n",
       "    </tr>\n",
       "    <tr>\n",
       "      <th>1</th>\n",
       "      <td>23.0</td>\n",
       "      <td>یگانه عبدالمالکی</td>\n",
       "    </tr>\n",
       "    <tr>\n",
       "      <th>2</th>\n",
       "      <td>27.0</td>\n",
       "      <td>ثنا سماوات</td>\n",
       "    </tr>\n",
       "    <tr>\n",
       "      <th>3</th>\n",
       "      <td>47.0</td>\n",
       "      <td>آيلين قاضی</td>\n",
       "    </tr>\n",
       "    <tr>\n",
       "      <th>4</th>\n",
       "      <td>32.0</td>\n",
       "      <td>بنيامين طلوعی</td>\n",
       "    </tr>\n",
       "    <tr>\n",
       "      <th>5</th>\n",
       "      <td>55.0</td>\n",
       "      <td>الینا هاشمی</td>\n",
       "    </tr>\n",
       "    <tr>\n",
       "      <th>6</th>\n",
       "      <td>21.0</td>\n",
       "      <td>معصومه نوری</td>\n",
       "    </tr>\n",
       "    <tr>\n",
       "      <th>7</th>\n",
       "      <td>51.0</td>\n",
       "      <td>نیایش سغیری</td>\n",
       "    </tr>\n",
       "    <tr>\n",
       "      <th>8</th>\n",
       "      <td>1.0</td>\n",
       "      <td>سرکار خانم دکتر پریا حریریان</td>\n",
       "    </tr>\n",
       "    <tr>\n",
       "      <th>9</th>\n",
       "      <td>66.0</td>\n",
       "      <td>باران جنتی</td>\n",
       "    </tr>\n",
       "    <tr>\n",
       "      <th>10</th>\n",
       "      <td>51.0</td>\n",
       "      <td>علیرضا منصوری</td>\n",
       "    </tr>\n",
       "    <tr>\n",
       "      <th>11</th>\n",
       "      <td>76.0</td>\n",
       "      <td>دانيال کرمانی</td>\n",
       "    </tr>\n",
       "    <tr>\n",
       "      <th>12</th>\n",
       "      <td>29.0</td>\n",
       "      <td>پارسا اشرفی</td>\n",
       "    </tr>\n",
       "    <tr>\n",
       "      <th>13</th>\n",
       "      <td>30.0</td>\n",
       "      <td>آوا وثاق</td>\n",
       "    </tr>\n",
       "    <tr>\n",
       "      <th>14</th>\n",
       "      <td>37.0</td>\n",
       "      <td>سرکار خانم دکتر مریم موسوی</td>\n",
       "    </tr>\n",
       "    <tr>\n",
       "      <th>15</th>\n",
       "      <td>NaN</td>\n",
       "      <td>معصومه رسولی</td>\n",
       "    </tr>\n",
       "    <tr>\n",
       "      <th>16</th>\n",
       "      <td>NaN</td>\n",
       "      <td>حسام نعمتی</td>\n",
       "    </tr>\n",
       "    <tr>\n",
       "      <th>17</th>\n",
       "      <td>NaN</td>\n",
       "      <td>محمدياسين عبدالعلی</td>\n",
       "    </tr>\n",
       "    <tr>\n",
       "      <th>18</th>\n",
       "      <td>NaN</td>\n",
       "      <td>یاسمین سعیدی</td>\n",
       "    </tr>\n",
       "    <tr>\n",
       "      <th>19</th>\n",
       "      <td>NaN</td>\n",
       "      <td>آيلين دادفر</td>\n",
       "    </tr>\n",
       "  </tbody>\n",
       "</table>\n",
       "</div>"
      ],
      "text/plain": [
       "     age                          name\n",
       "0   57.0                   آرش علیجانی\n",
       "1   23.0              یگانه عبدالمالکی\n",
       "2   27.0                    ثنا سماوات\n",
       "3   47.0                    آيلين قاضی\n",
       "4   32.0                 بنيامين طلوعی\n",
       "5   55.0                   الینا هاشمی\n",
       "6   21.0                   معصومه نوری\n",
       "7   51.0                   نیایش سغیری\n",
       "8    1.0  سرکار خانم دکتر پریا حریریان\n",
       "9   66.0                    باران جنتی\n",
       "10  51.0                 علیرضا منصوری\n",
       "11  76.0                 دانيال کرمانی\n",
       "12  29.0                   پارسا اشرفی\n",
       "13  30.0                      آوا وثاق\n",
       "14  37.0    سرکار خانم دکتر مریم موسوی\n",
       "15   NaN                  معصومه رسولی\n",
       "16   NaN                    حسام نعمتی\n",
       "17   NaN            محمدياسين عبدالعلی\n",
       "18   NaN                  یاسمین سعیدی\n",
       "19   NaN                   آيلين دادفر"
      ]
     },
     "execution_count": 51,
     "metadata": {},
     "output_type": "execute_result"
    }
   ],
   "source": [
    "df"
   ]
  },
  {
   "cell_type": "code",
   "execution_count": 54,
   "id": "7f44f02f-efc6-49f8-9c42-980edc4db1fa",
   "metadata": {},
   "outputs": [
    {
     "data": {
      "text/plain": [
       "Index(['age', 'name'], dtype='object')"
      ]
     },
     "execution_count": 54,
     "metadata": {},
     "output_type": "execute_result"
    }
   ],
   "source": [
    "df.columns"
   ]
  },
  {
   "cell_type": "code",
   "execution_count": null,
   "id": "62eeecec-cd70-494d-a804-25955812e4fc",
   "metadata": {},
   "outputs": [],
   "source": []
  }
 ],
 "metadata": {
  "kernelspec": {
   "display_name": "Python 3 (ipykernel)",
   "language": "python",
   "name": "python3"
  },
  "language_info": {
   "codemirror_mode": {
    "name": "ipython",
    "version": 3
   },
   "file_extension": ".py",
   "mimetype": "text/x-python",
   "name": "python",
   "nbconvert_exporter": "python",
   "pygments_lexer": "ipython3",
   "version": "3.10.12"
  }
 },
 "nbformat": 4,
 "nbformat_minor": 5
}
