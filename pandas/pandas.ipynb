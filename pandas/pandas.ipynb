{
 "cells": [
  {
   "cell_type": "code",
   "execution_count": 2,
   "id": "56434e2d-d6ee-48f2-959a-ec59127963a5",
   "metadata": {},
   "outputs": [],
   "source": [
    "import numpy as np\n",
    "import pandas as pd"
   ]
  },
  {
   "cell_type": "markdown",
   "id": "ae15f04c-aa68-45d6-92fd-1b70593dbbde",
   "metadata": {},
   "source": [
    "## Series"
   ]
  },
  {
   "cell_type": "code",
   "execution_count": 2,
   "id": "64bae64a-555d-442b-87f9-e2df8ce2dfc5",
   "metadata": {},
   "outputs": [
    {
     "data": {
      "text/plain": [
       "array([1, 2, 3])"
      ]
     },
     "execution_count": 2,
     "metadata": {},
     "output_type": "execute_result"
    }
   ],
   "source": [
    "np.array([1,2,3]) #1-D #Series"
   ]
  },
  {
   "cell_type": "markdown",
   "id": "244c82ca-d06b-4697-9656-54aecdeeaa38",
   "metadata": {},
   "source": [
    "np.random.randin(3,4)"
   ]
  },
  {
   "cell_type": "code",
   "execution_count": 5,
   "id": "59117d85-7f3e-4f03-b24b-adc729aeab74",
   "metadata": {},
   "outputs": [
    {
     "data": {
      "text/plain": [
       "array([[0.78319312, 0.17078852, 0.96172522, 0.24429456],\n",
       "       [0.71406226, 0.69546958, 0.86381972, 0.96702235],\n",
       "       [0.67609904, 0.95362343, 0.31161483, 0.0971299 ]])"
      ]
     },
     "execution_count": 5,
     "metadata": {},
     "output_type": "execute_result"
    }
   ],
   "source": [
    "np.random.rand(3,4) #2-D #DF"
   ]
  },
  {
   "cell_type": "code",
   "execution_count": 6,
   "id": "ab056350-b103-4bf6-95fd-a536b699a4ad",
   "metadata": {},
   "outputs": [
    {
     "data": {
      "text/plain": [
       "0    1\n",
       "1    2\n",
       "2    3\n",
       "dtype: int64"
      ]
     },
     "execution_count": 6,
     "metadata": {},
     "output_type": "execute_result"
    }
   ],
   "source": [
    "pd.Series([1,2,3]) #(data, index)"
   ]
  },
  {
   "cell_type": "code",
   "execution_count": 12,
   "id": "e5a2330c-352c-4938-b24d-4aad43546a87",
   "metadata": {},
   "outputs": [],
   "source": [
    "#pandas is on top numpy so lets create a series based on np\n",
    "s = pd.Series(np.random.randn(5),\n",
    "         index=['a','b', 'c', 'd', 'f'],\n",
    "         dtype= 'float32')"
   ]
  },
  {
   "cell_type": "code",
   "execution_count": 13,
   "id": "05ca3cf7-1b39-4463-b609-5540f1a550e4",
   "metadata": {},
   "outputs": [
    {
     "data": {
      "text/plain": [
       "a    0.159966\n",
       "b    1.181451\n",
       "c    0.763776\n",
       "d    0.560322\n",
       "f    1.637558\n",
       "dtype: float32"
      ]
     },
     "execution_count": 13,
     "metadata": {},
     "output_type": "execute_result"
    }
   ],
   "source": [
    "s"
   ]
  },
  {
   "cell_type": "code",
   "execution_count": 14,
   "id": "57578879-2583-47e6-b823-b77514cc7303",
   "metadata": {},
   "outputs": [
    {
     "data": {
      "text/plain": [
       "Index(['a', 'b', 'c', 'd', 'f'], dtype='object')"
      ]
     },
     "execution_count": 14,
     "metadata": {},
     "output_type": "execute_result"
    }
   ],
   "source": [
    "s.index"
   ]
  },
  {
   "cell_type": "code",
   "execution_count": 15,
   "id": "0d342295-7250-4a0b-9851-2ee180c931be",
   "metadata": {},
   "outputs": [
    {
     "data": {
      "text/plain": [
       "a    0.159966\n",
       "b    1.181451\n",
       "dtype: float32"
      ]
     },
     "execution_count": 15,
     "metadata": {},
     "output_type": "execute_result"
    }
   ],
   "source": [
    "s[:2]"
   ]
  },
  {
   "cell_type": "code",
   "execution_count": 16,
   "id": "11703a4c-3d39-4322-8219-d543683cb6f0",
   "metadata": {},
   "outputs": [
    {
     "data": {
      "text/plain": [
       "b    1.181451\n",
       "f    1.637558\n",
       "dtype: float32"
      ]
     },
     "execution_count": 16,
     "metadata": {},
     "output_type": "execute_result"
    }
   ],
   "source": [
    "s[s> s.median()]"
   ]
  },
  {
   "cell_type": "code",
   "execution_count": 17,
   "id": "39086659-d694-4657-9a63-5de4ae8e060e",
   "metadata": {},
   "outputs": [
    {
     "data": {
      "text/plain": [
       "0.7637763023376465"
      ]
     },
     "execution_count": 17,
     "metadata": {},
     "output_type": "execute_result"
    }
   ],
   "source": [
    "s.median()"
   ]
  },
  {
   "cell_type": "code",
   "execution_count": 19,
   "id": "71c87051-95ad-4171-902e-37a99fe85014",
   "metadata": {},
   "outputs": [
    {
     "data": {
      "text/plain": [
       "dtype('float32')"
      ]
     },
     "execution_count": 19,
     "metadata": {},
     "output_type": "execute_result"
    }
   ],
   "source": [
    "s.dtype"
   ]
  },
  {
   "cell_type": "code",
   "execution_count": 20,
   "id": "45ebd032-bd4a-444b-ba5b-88d0fccd5e70",
   "metadata": {},
   "outputs": [
    {
     "data": {
      "text/plain": [
       "array([0.15996622, 1.1814506 , 0.7637763 , 0.56032175, 1.6375582 ],\n",
       "      dtype=float32)"
      ]
     },
     "execution_count": 20,
     "metadata": {},
     "output_type": "execute_result"
    }
   ],
   "source": [
    "s.to_numpy()"
   ]
  },
  {
   "cell_type": "markdown",
   "id": "14af29fe-3149-42e4-af12-b6994cd65a27",
   "metadata": {},
   "source": [
    "## Vectorized operations and label alignments w/ series"
   ]
  },
  {
   "cell_type": "code",
   "execution_count": 21,
   "id": "5f1e9327-8443-4fb1-8b70-40d9fb8f291c",
   "metadata": {},
   "outputs": [
    {
     "data": {
      "text/plain": [
       "a    0.319932\n",
       "b    2.362901\n",
       "c    1.527553\n",
       "d    1.120643\n",
       "f    3.275116\n",
       "dtype: float32"
      ]
     },
     "execution_count": 21,
     "metadata": {},
     "output_type": "execute_result"
    }
   ],
   "source": [
    "s +s"
   ]
  },
  {
   "cell_type": "code",
   "execution_count": 22,
   "id": "1e08251e-ec00-405e-a53f-c9e470febd4b",
   "metadata": {},
   "outputs": [
    {
     "data": {
      "text/plain": [
       "a    0.319932\n",
       "b    2.362901\n",
       "c    1.527553\n",
       "d    1.120643\n",
       "f    3.275116\n",
       "dtype: float32"
      ]
     },
     "execution_count": 22,
     "metadata": {},
     "output_type": "execute_result"
    }
   ],
   "source": [
    "s * 2"
   ]
  },
  {
   "cell_type": "code",
   "execution_count": 23,
   "id": "919c5053-9db4-4690-9c42-4d7dda26eeb3",
   "metadata": {},
   "outputs": [],
   "source": [
    "# create np array\n",
    "a = np.random.randn(4)"
   ]
  },
  {
   "cell_type": "code",
   "execution_count": 24,
   "id": "503fe554-9122-449f-93ab-7ce95fd5d6d1",
   "metadata": {},
   "outputs": [
    {
     "data": {
      "text/plain": [
       "array([ 0.23864953, -0.56868532, -1.10492167, -1.20565626])"
      ]
     },
     "execution_count": 24,
     "metadata": {},
     "output_type": "execute_result"
    }
   ],
   "source": [
    "a"
   ]
  },
  {
   "cell_type": "code",
   "execution_count": 27,
   "id": "62cfbe8a-fefe-42a8-ba2f-51e272f966d3",
   "metadata": {},
   "outputs": [
    {
     "data": {
      "text/plain": [
       "array([ 0.23864953, -0.56868532])"
      ]
     },
     "execution_count": 27,
     "metadata": {},
     "output_type": "execute_result"
    }
   ],
   "source": [
    "a[:2]"
   ]
  },
  {
   "cell_type": "code",
   "execution_count": 30,
   "id": "d676a32e-8809-4eaa-9b02-07e0d7981fbb",
   "metadata": {},
   "outputs": [
    {
     "data": {
      "text/plain": [
       "array([-1.10492167, -1.20565626])"
      ]
     },
     "execution_count": 30,
     "metadata": {},
     "output_type": "execute_result"
    }
   ],
   "source": [
    "a[2:]"
   ]
  },
  {
   "cell_type": "code",
   "execution_count": 31,
   "id": "c4af5404-5ffc-4c97-b489-71ab181a5990",
   "metadata": {},
   "outputs": [
    {
     "data": {
      "text/plain": [
       "array([-0.86627213, -1.77434158])"
      ]
     },
     "execution_count": 31,
     "metadata": {},
     "output_type": "execute_result"
    }
   ],
   "source": [
    "a[:2] + a[2:]"
   ]
  },
  {
   "cell_type": "code",
   "execution_count": 40,
   "id": "aa717efd-c894-49b8-a95d-e0f142e9f81d",
   "metadata": {},
   "outputs": [],
   "source": [
    "s = pd.Series(np.random.rand(4), index= ['a','b', 'c', 'd'])"
   ]
  },
  {
   "cell_type": "markdown",
   "id": "9bf606c5-a7e9-46cc-971e-1aeade7ebbba",
   "metadata": {},
   "source": [
    "## Numpy VS Pandas allignment in operatins!!!"
   ]
  },
  {
   "cell_type": "code",
   "execution_count": 41,
   "id": "72c42976-7745-467d-9ecd-0eb033fdeed5",
   "metadata": {},
   "outputs": [
    {
     "data": {
      "text/plain": [
       "a    0.322753\n",
       "b    0.659787\n",
       "c    0.500585\n",
       "d    0.498348\n",
       "dtype: float64"
      ]
     },
     "execution_count": 41,
     "metadata": {},
     "output_type": "execute_result"
    }
   ],
   "source": [
    "s"
   ]
  },
  {
   "cell_type": "code",
   "execution_count": 42,
   "id": "46f36ffd-a290-43e1-aaaa-ea54f86a1ea1",
   "metadata": {},
   "outputs": [
    {
     "data": {
      "text/plain": [
       "a    0.322753\n",
       "b    0.659787\n",
       "dtype: float64"
      ]
     },
     "execution_count": 42,
     "metadata": {},
     "output_type": "execute_result"
    }
   ],
   "source": [
    "s[:2]"
   ]
  },
  {
   "cell_type": "code",
   "execution_count": 43,
   "id": "c0ff174c-1ac8-41ac-a77e-e7532a1a8f11",
   "metadata": {},
   "outputs": [
    {
     "data": {
      "text/plain": [
       "b    0.659787\n",
       "c    0.500585\n",
       "d    0.498348\n",
       "dtype: float64"
      ]
     },
     "execution_count": 43,
     "metadata": {},
     "output_type": "execute_result"
    }
   ],
   "source": [
    "s[1:]"
   ]
  },
  {
   "cell_type": "code",
   "execution_count": 44,
   "id": "6fe73baa-3768-4ca4-9be8-841c659a0704",
   "metadata": {},
   "outputs": [
    {
     "data": {
      "text/plain": [
       "a         NaN\n",
       "b    1.319573\n",
       "c         NaN\n",
       "d         NaN\n",
       "dtype: float64"
      ]
     },
     "execution_count": 44,
     "metadata": {},
     "output_type": "execute_result"
    }
   ],
   "source": [
    "s[:2] +  s[1:]"
   ]
  },
  {
   "cell_type": "markdown",
   "id": "faa09f79-4b77-4efd-b77e-c740ddc3857f",
   "metadata": {},
   "source": [
    "## DataFrame"
   ]
  },
  {
   "cell_type": "code",
   "execution_count": 14,
   "id": "c5358a2a-8ee4-4aff-8dbf-50a1b7535adc",
   "metadata": {},
   "outputs": [],
   "source": [
    "#you can make Dataframe from a series \n",
    "d = {\n",
    "    'age' : pd.Series(np.random.randint(0,80, 15)),\n",
    "    'name' : pd.Series([fake.name() for i in range(20)])\n",
    "\n",
    "}"
   ]
  },
  {
   "cell_type": "code",
   "execution_count": 15,
   "id": "2851d299-9200-4991-bdd5-45dc5223a93f",
   "metadata": {},
   "outputs": [
    {
     "data": {
      "text/html": [
       "<div>\n",
       "<style scoped>\n",
       "    .dataframe tbody tr th:only-of-type {\n",
       "        vertical-align: middle;\n",
       "    }\n",
       "\n",
       "    .dataframe tbody tr th {\n",
       "        vertical-align: top;\n",
       "    }\n",
       "\n",
       "    .dataframe thead th {\n",
       "        text-align: right;\n",
       "    }\n",
       "</style>\n",
       "<table border=\"1\" class=\"dataframe\">\n",
       "  <thead>\n",
       "    <tr style=\"text-align: right;\">\n",
       "      <th></th>\n",
       "      <th>age</th>\n",
       "      <th>name</th>\n",
       "    </tr>\n",
       "  </thead>\n",
       "  <tbody>\n",
       "    <tr>\n",
       "      <th>0</th>\n",
       "      <td>57.0</td>\n",
       "      <td>جناب آقای دکتر آرتین طلوعی</td>\n",
       "    </tr>\n",
       "    <tr>\n",
       "      <th>1</th>\n",
       "      <td>75.0</td>\n",
       "      <td>سرکار خانم معصومه موحد</td>\n",
       "    </tr>\n",
       "    <tr>\n",
       "      <th>2</th>\n",
       "      <td>55.0</td>\n",
       "      <td>ستايش محجوب</td>\n",
       "    </tr>\n",
       "    <tr>\n",
       "      <th>3</th>\n",
       "      <td>52.0</td>\n",
       "      <td>مبینا جلیلی</td>\n",
       "    </tr>\n",
       "    <tr>\n",
       "      <th>4</th>\n",
       "      <td>52.0</td>\n",
       "      <td>جناب آقای سجاد ضابطی</td>\n",
       "    </tr>\n",
       "    <tr>\n",
       "      <th>5</th>\n",
       "      <td>16.0</td>\n",
       "      <td>محيا ربانی</td>\n",
       "    </tr>\n",
       "    <tr>\n",
       "      <th>6</th>\n",
       "      <td>6.0</td>\n",
       "      <td>محمد مهدی ولاشجردی</td>\n",
       "    </tr>\n",
       "    <tr>\n",
       "      <th>7</th>\n",
       "      <td>17.0</td>\n",
       "      <td>ستايش عقیلی</td>\n",
       "    </tr>\n",
       "    <tr>\n",
       "      <th>8</th>\n",
       "      <td>70.0</td>\n",
       "      <td>سرکار خانم نرگس فرجی</td>\n",
       "    </tr>\n",
       "    <tr>\n",
       "      <th>9</th>\n",
       "      <td>33.0</td>\n",
       "      <td>رقیه عزیزی</td>\n",
       "    </tr>\n",
       "    <tr>\n",
       "      <th>10</th>\n",
       "      <td>31.0</td>\n",
       "      <td>ايليا طلوعی</td>\n",
       "    </tr>\n",
       "    <tr>\n",
       "      <th>11</th>\n",
       "      <td>55.0</td>\n",
       "      <td>حسام ضرغامی</td>\n",
       "    </tr>\n",
       "    <tr>\n",
       "      <th>12</th>\n",
       "      <td>33.0</td>\n",
       "      <td>یلدا چنگیزی</td>\n",
       "    </tr>\n",
       "    <tr>\n",
       "      <th>13</th>\n",
       "      <td>52.0</td>\n",
       "      <td>بنيامين الوندی</td>\n",
       "    </tr>\n",
       "    <tr>\n",
       "      <th>14</th>\n",
       "      <td>72.0</td>\n",
       "      <td>سرکار خانم یسنا کمالی</td>\n",
       "    </tr>\n",
       "    <tr>\n",
       "      <th>15</th>\n",
       "      <td>NaN</td>\n",
       "      <td>سوگند عبدالعلی</td>\n",
       "    </tr>\n",
       "    <tr>\n",
       "      <th>16</th>\n",
       "      <td>NaN</td>\n",
       "      <td>آيدا تهرانی</td>\n",
       "    </tr>\n",
       "    <tr>\n",
       "      <th>17</th>\n",
       "      <td>NaN</td>\n",
       "      <td>آیلین نامور</td>\n",
       "    </tr>\n",
       "    <tr>\n",
       "      <th>18</th>\n",
       "      <td>NaN</td>\n",
       "      <td>نازنین زهرا نوروزی</td>\n",
       "    </tr>\n",
       "    <tr>\n",
       "      <th>19</th>\n",
       "      <td>NaN</td>\n",
       "      <td>آيلين صارمی</td>\n",
       "    </tr>\n",
       "  </tbody>\n",
       "</table>\n",
       "</div>"
      ],
      "text/plain": [
       "     age                        name\n",
       "0   57.0  جناب آقای دکتر آرتین طلوعی\n",
       "1   75.0      سرکار خانم معصومه موحد\n",
       "2   55.0                 ستايش محجوب\n",
       "3   52.0                 مبینا جلیلی\n",
       "4   52.0        جناب آقای سجاد ضابطی\n",
       "5   16.0                  محيا ربانی\n",
       "6    6.0          محمد مهدی ولاشجردی\n",
       "7   17.0                 ستايش عقیلی\n",
       "8   70.0        سرکار خانم نرگس فرجی\n",
       "9   33.0                  رقیه عزیزی\n",
       "10  31.0                 ايليا طلوعی\n",
       "11  55.0                 حسام ضرغامی\n",
       "12  33.0                 یلدا چنگیزی\n",
       "13  52.0              بنيامين الوندی\n",
       "14  72.0       سرکار خانم یسنا کمالی\n",
       "15   NaN              سوگند عبدالعلی\n",
       "16   NaN                 آيدا تهرانی\n",
       "17   NaN                 آیلین نامور\n",
       "18   NaN          نازنین زهرا نوروزی\n",
       "19   NaN                 آيلين صارمی"
      ]
     },
     "execution_count": 15,
     "metadata": {},
     "output_type": "execute_result"
    }
   ],
   "source": [
    "pd.DataFrame(d)"
   ]
  },
  {
   "cell_type": "code",
   "execution_count": 21,
   "id": "d1dc0a7e-9839-461e-8635-282c2f1021f7",
   "metadata": {},
   "outputs": [
    {
     "data": {
      "text/html": [
       "<div>\n",
       "<style scoped>\n",
       "    .dataframe tbody tr th:only-of-type {\n",
       "        vertical-align: middle;\n",
       "    }\n",
       "\n",
       "    .dataframe tbody tr th {\n",
       "        vertical-align: top;\n",
       "    }\n",
       "\n",
       "    .dataframe thead th {\n",
       "        text-align: right;\n",
       "    }\n",
       "</style>\n",
       "<table border=\"1\" class=\"dataframe\">\n",
       "  <thead>\n",
       "    <tr style=\"text-align: right;\">\n",
       "      <th></th>\n",
       "      <th>age</th>\n",
       "    </tr>\n",
       "  </thead>\n",
       "  <tbody>\n",
       "    <tr>\n",
       "      <th>0</th>\n",
       "      <td>57</td>\n",
       "    </tr>\n",
       "    <tr>\n",
       "      <th>1</th>\n",
       "      <td>75</td>\n",
       "    </tr>\n",
       "    <tr>\n",
       "      <th>2</th>\n",
       "      <td>55</td>\n",
       "    </tr>\n",
       "    <tr>\n",
       "      <th>3</th>\n",
       "      <td>52</td>\n",
       "    </tr>\n",
       "    <tr>\n",
       "      <th>4</th>\n",
       "      <td>52</td>\n",
       "    </tr>\n",
       "    <tr>\n",
       "      <th>5</th>\n",
       "      <td>16</td>\n",
       "    </tr>\n",
       "    <tr>\n",
       "      <th>6</th>\n",
       "      <td>6</td>\n",
       "    </tr>\n",
       "    <tr>\n",
       "      <th>7</th>\n",
       "      <td>17</td>\n",
       "    </tr>\n",
       "    <tr>\n",
       "      <th>8</th>\n",
       "      <td>70</td>\n",
       "    </tr>\n",
       "    <tr>\n",
       "      <th>9</th>\n",
       "      <td>33</td>\n",
       "    </tr>\n",
       "    <tr>\n",
       "      <th>10</th>\n",
       "      <td>31</td>\n",
       "    </tr>\n",
       "    <tr>\n",
       "      <th>11</th>\n",
       "      <td>55</td>\n",
       "    </tr>\n",
       "    <tr>\n",
       "      <th>12</th>\n",
       "      <td>33</td>\n",
       "    </tr>\n",
       "    <tr>\n",
       "      <th>13</th>\n",
       "      <td>52</td>\n",
       "    </tr>\n",
       "    <tr>\n",
       "      <th>14</th>\n",
       "      <td>72</td>\n",
       "    </tr>\n",
       "  </tbody>\n",
       "</table>\n",
       "</div>"
      ],
      "text/plain": [
       "    age\n",
       "0    57\n",
       "1    75\n",
       "2    55\n",
       "3    52\n",
       "4    52\n",
       "5    16\n",
       "6     6\n",
       "7    17\n",
       "8    70\n",
       "9    33\n",
       "10   31\n",
       "11   55\n",
       "12   33\n",
       "13   52\n",
       "14   72"
      ]
     },
     "execution_count": 21,
     "metadata": {},
     "output_type": "execute_result"
    }
   ],
   "source": [
    "pd.DataFrame(d, columns=['age'])"
   ]
  },
  {
   "cell_type": "code",
   "execution_count": null,
   "id": "761c5c73-870e-4b14-a978-73d7a4447acd",
   "metadata": {},
   "outputs": [],
   "source": []
  }
 ],
 "metadata": {
  "kernelspec": {
   "display_name": "Python 3 (ipykernel)",
   "language": "python",
   "name": "python3"
  },
  "language_info": {
   "codemirror_mode": {
    "name": "ipython",
    "version": 3
   },
   "file_extension": ".py",
   "mimetype": "text/x-python",
   "name": "python",
   "nbconvert_exporter": "python",
   "pygments_lexer": "ipython3",
   "version": "3.10.12"
  }
 },
 "nbformat": 4,
 "nbformat_minor": 5
}
