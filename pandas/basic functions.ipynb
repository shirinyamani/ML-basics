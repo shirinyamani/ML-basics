{
 "cells": [
  {
   "cell_type": "code",
   "execution_count": 1,
   "id": "15283509-39e0-4a3e-830b-838e94d2c6a5",
   "metadata": {},
   "outputs": [],
   "source": [
    "import numpy as np\n",
    "import pandas as pd\n"
   ]
  },
  {
   "cell_type": "code",
   "execution_count": 5,
   "id": "756e01d2-5207-4a41-a4e3-6f28f3f5c7a6",
   "metadata": {},
   "outputs": [],
   "source": [
    "index = pd.date_range('1/1/2023', periods=9, freq='M')"
   ]
  },
  {
   "cell_type": "code",
   "execution_count": 8,
   "id": "b682b4bc-3221-411f-bb3c-5c5af111f7d7",
   "metadata": {},
   "outputs": [],
   "source": [
    "df = pd.DataFrame(\n",
    "    np.random.rand(9,3),\n",
    "    index=index,\n",
    "    columns=['A', 'B', 'C']\n",
    "\n",
    ")"
   ]
  },
  {
   "cell_type": "code",
   "execution_count": 9,
   "id": "2226963d-89fb-4648-b29f-35526db9784d",
   "metadata": {},
   "outputs": [
    {
     "data": {
      "text/html": [
       "<div>\n",
       "<style scoped>\n",
       "    .dataframe tbody tr th:only-of-type {\n",
       "        vertical-align: middle;\n",
       "    }\n",
       "\n",
       "    .dataframe tbody tr th {\n",
       "        vertical-align: top;\n",
       "    }\n",
       "\n",
       "    .dataframe thead th {\n",
       "        text-align: right;\n",
       "    }\n",
       "</style>\n",
       "<table border=\"1\" class=\"dataframe\">\n",
       "  <thead>\n",
       "    <tr style=\"text-align: right;\">\n",
       "      <th></th>\n",
       "      <th>A</th>\n",
       "      <th>B</th>\n",
       "      <th>C</th>\n",
       "    </tr>\n",
       "  </thead>\n",
       "  <tbody>\n",
       "    <tr>\n",
       "      <th>2023-01-31</th>\n",
       "      <td>0.214428</td>\n",
       "      <td>0.228698</td>\n",
       "      <td>0.506209</td>\n",
       "    </tr>\n",
       "    <tr>\n",
       "      <th>2023-02-28</th>\n",
       "      <td>0.658525</td>\n",
       "      <td>0.354613</td>\n",
       "      <td>0.394566</td>\n",
       "    </tr>\n",
       "    <tr>\n",
       "      <th>2023-03-31</th>\n",
       "      <td>0.167165</td>\n",
       "      <td>0.223364</td>\n",
       "      <td>0.350461</td>\n",
       "    </tr>\n",
       "    <tr>\n",
       "      <th>2023-04-30</th>\n",
       "      <td>0.350314</td>\n",
       "      <td>0.313123</td>\n",
       "      <td>0.144332</td>\n",
       "    </tr>\n",
       "    <tr>\n",
       "      <th>2023-05-31</th>\n",
       "      <td>0.867844</td>\n",
       "      <td>0.235344</td>\n",
       "      <td>0.980278</td>\n",
       "    </tr>\n",
       "    <tr>\n",
       "      <th>2023-06-30</th>\n",
       "      <td>0.742956</td>\n",
       "      <td>0.730953</td>\n",
       "      <td>0.986393</td>\n",
       "    </tr>\n",
       "    <tr>\n",
       "      <th>2023-07-31</th>\n",
       "      <td>0.673490</td>\n",
       "      <td>0.463311</td>\n",
       "      <td>0.873275</td>\n",
       "    </tr>\n",
       "    <tr>\n",
       "      <th>2023-08-31</th>\n",
       "      <td>0.264680</td>\n",
       "      <td>0.403108</td>\n",
       "      <td>0.163643</td>\n",
       "    </tr>\n",
       "    <tr>\n",
       "      <th>2023-09-30</th>\n",
       "      <td>0.325284</td>\n",
       "      <td>0.491763</td>\n",
       "      <td>0.436306</td>\n",
       "    </tr>\n",
       "  </tbody>\n",
       "</table>\n",
       "</div>"
      ],
      "text/plain": [
       "                   A         B         C\n",
       "2023-01-31  0.214428  0.228698  0.506209\n",
       "2023-02-28  0.658525  0.354613  0.394566\n",
       "2023-03-31  0.167165  0.223364  0.350461\n",
       "2023-04-30  0.350314  0.313123  0.144332\n",
       "2023-05-31  0.867844  0.235344  0.980278\n",
       "2023-06-30  0.742956  0.730953  0.986393\n",
       "2023-07-31  0.673490  0.463311  0.873275\n",
       "2023-08-31  0.264680  0.403108  0.163643\n",
       "2023-09-30  0.325284  0.491763  0.436306"
      ]
     },
     "execution_count": 9,
     "metadata": {},
     "output_type": "execute_result"
    }
   ],
   "source": [
    "df"
   ]
  },
  {
   "cell_type": "code",
   "execution_count": 10,
   "id": "41989da4-3a96-459c-9d7e-8a2fdc217ff1",
   "metadata": {},
   "outputs": [],
   "source": [
    "df.columns = [x.lower() for x in df.columns]"
   ]
  },
  {
   "cell_type": "code",
   "execution_count": 11,
   "id": "247a4e36-662e-407a-8c99-2bb326c7caa1",
   "metadata": {},
   "outputs": [
    {
     "data": {
      "text/html": [
       "<div>\n",
       "<style scoped>\n",
       "    .dataframe tbody tr th:only-of-type {\n",
       "        vertical-align: middle;\n",
       "    }\n",
       "\n",
       "    .dataframe tbody tr th {\n",
       "        vertical-align: top;\n",
       "    }\n",
       "\n",
       "    .dataframe thead th {\n",
       "        text-align: right;\n",
       "    }\n",
       "</style>\n",
       "<table border=\"1\" class=\"dataframe\">\n",
       "  <thead>\n",
       "    <tr style=\"text-align: right;\">\n",
       "      <th></th>\n",
       "      <th>a</th>\n",
       "      <th>b</th>\n",
       "      <th>c</th>\n",
       "    </tr>\n",
       "  </thead>\n",
       "  <tbody>\n",
       "    <tr>\n",
       "      <th>2023-01-31</th>\n",
       "      <td>0.214428</td>\n",
       "      <td>0.228698</td>\n",
       "      <td>0.506209</td>\n",
       "    </tr>\n",
       "    <tr>\n",
       "      <th>2023-02-28</th>\n",
       "      <td>0.658525</td>\n",
       "      <td>0.354613</td>\n",
       "      <td>0.394566</td>\n",
       "    </tr>\n",
       "    <tr>\n",
       "      <th>2023-03-31</th>\n",
       "      <td>0.167165</td>\n",
       "      <td>0.223364</td>\n",
       "      <td>0.350461</td>\n",
       "    </tr>\n",
       "    <tr>\n",
       "      <th>2023-04-30</th>\n",
       "      <td>0.350314</td>\n",
       "      <td>0.313123</td>\n",
       "      <td>0.144332</td>\n",
       "    </tr>\n",
       "    <tr>\n",
       "      <th>2023-05-31</th>\n",
       "      <td>0.867844</td>\n",
       "      <td>0.235344</td>\n",
       "      <td>0.980278</td>\n",
       "    </tr>\n",
       "    <tr>\n",
       "      <th>2023-06-30</th>\n",
       "      <td>0.742956</td>\n",
       "      <td>0.730953</td>\n",
       "      <td>0.986393</td>\n",
       "    </tr>\n",
       "    <tr>\n",
       "      <th>2023-07-31</th>\n",
       "      <td>0.673490</td>\n",
       "      <td>0.463311</td>\n",
       "      <td>0.873275</td>\n",
       "    </tr>\n",
       "    <tr>\n",
       "      <th>2023-08-31</th>\n",
       "      <td>0.264680</td>\n",
       "      <td>0.403108</td>\n",
       "      <td>0.163643</td>\n",
       "    </tr>\n",
       "    <tr>\n",
       "      <th>2023-09-30</th>\n",
       "      <td>0.325284</td>\n",
       "      <td>0.491763</td>\n",
       "      <td>0.436306</td>\n",
       "    </tr>\n",
       "  </tbody>\n",
       "</table>\n",
       "</div>"
      ],
      "text/plain": [
       "                   a         b         c\n",
       "2023-01-31  0.214428  0.228698  0.506209\n",
       "2023-02-28  0.658525  0.354613  0.394566\n",
       "2023-03-31  0.167165  0.223364  0.350461\n",
       "2023-04-30  0.350314  0.313123  0.144332\n",
       "2023-05-31  0.867844  0.235344  0.980278\n",
       "2023-06-30  0.742956  0.730953  0.986393\n",
       "2023-07-31  0.673490  0.463311  0.873275\n",
       "2023-08-31  0.264680  0.403108  0.163643\n",
       "2023-09-30  0.325284  0.491763  0.436306"
      ]
     },
     "execution_count": 11,
     "metadata": {},
     "output_type": "execute_result"
    }
   ],
   "source": [
    "df"
   ]
  },
  {
   "cell_type": "code",
   "execution_count": 12,
   "id": "f8eb39b6-df40-461e-a8e8-2a7f38070335",
   "metadata": {},
   "outputs": [],
   "source": [
    "row = df.iloc[2]"
   ]
  },
  {
   "cell_type": "code",
   "execution_count": 13,
   "id": "699f2eda-d7f2-49d5-8509-83d7ca8da0e8",
   "metadata": {},
   "outputs": [
    {
     "data": {
      "text/plain": [
       "a    0.167165\n",
       "b    0.223364\n",
       "c    0.350461\n",
       "Name: 2023-03-31 00:00:00, dtype: float64"
      ]
     },
     "execution_count": 13,
     "metadata": {},
     "output_type": "execute_result"
    }
   ],
   "source": [
    "row"
   ]
  },
  {
   "cell_type": "code",
   "execution_count": 15,
   "id": "a584f360-4cf0-4548-b3d5-ce43f49f0e3c",
   "metadata": {},
   "outputs": [],
   "source": [
    "column=df['b']"
   ]
  },
  {
   "cell_type": "code",
   "execution_count": 16,
   "id": "8669055f-46e0-446e-8d2a-df253f3dca3d",
   "metadata": {},
   "outputs": [
    {
     "data": {
      "text/plain": [
       "2023-01-31    0.228698\n",
       "2023-02-28    0.354613\n",
       "2023-03-31    0.223364\n",
       "2023-04-30    0.313123\n",
       "2023-05-31    0.235344\n",
       "2023-06-30    0.730953\n",
       "2023-07-31    0.463311\n",
       "2023-08-31    0.403108\n",
       "2023-09-30    0.491763\n",
       "Freq: M, Name: b, dtype: float64"
      ]
     },
     "execution_count": 16,
     "metadata": {},
     "output_type": "execute_result"
    }
   ],
   "source": [
    "column"
   ]
  },
  {
   "cell_type": "code",
   "execution_count": 17,
   "id": "ab6d42a5-5587-47bf-8249-cdd87d199bd2",
   "metadata": {},
   "outputs": [
    {
     "data": {
      "text/html": [
       "<div>\n",
       "<style scoped>\n",
       "    .dataframe tbody tr th:only-of-type {\n",
       "        vertical-align: middle;\n",
       "    }\n",
       "\n",
       "    .dataframe tbody tr th {\n",
       "        vertical-align: top;\n",
       "    }\n",
       "\n",
       "    .dataframe thead th {\n",
       "        text-align: right;\n",
       "    }\n",
       "</style>\n",
       "<table border=\"1\" class=\"dataframe\">\n",
       "  <thead>\n",
       "    <tr style=\"text-align: right;\">\n",
       "      <th></th>\n",
       "      <th>a</th>\n",
       "      <th>b</th>\n",
       "      <th>c</th>\n",
       "    </tr>\n",
       "  </thead>\n",
       "  <tbody>\n",
       "    <tr>\n",
       "      <th>2023-01-31</th>\n",
       "      <td>0.047262</td>\n",
       "      <td>0.005334</td>\n",
       "      <td>0.155749</td>\n",
       "    </tr>\n",
       "    <tr>\n",
       "      <th>2023-02-28</th>\n",
       "      <td>0.491359</td>\n",
       "      <td>0.131248</td>\n",
       "      <td>0.044106</td>\n",
       "    </tr>\n",
       "    <tr>\n",
       "      <th>2023-03-31</th>\n",
       "      <td>0.000000</td>\n",
       "      <td>0.000000</td>\n",
       "      <td>0.000000</td>\n",
       "    </tr>\n",
       "    <tr>\n",
       "      <th>2023-04-30</th>\n",
       "      <td>0.183148</td>\n",
       "      <td>0.089758</td>\n",
       "      <td>-0.206129</td>\n",
       "    </tr>\n",
       "    <tr>\n",
       "      <th>2023-05-31</th>\n",
       "      <td>0.700679</td>\n",
       "      <td>0.011980</td>\n",
       "      <td>0.629817</td>\n",
       "    </tr>\n",
       "    <tr>\n",
       "      <th>2023-06-30</th>\n",
       "      <td>0.575790</td>\n",
       "      <td>0.507588</td>\n",
       "      <td>0.635932</td>\n",
       "    </tr>\n",
       "    <tr>\n",
       "      <th>2023-07-31</th>\n",
       "      <td>0.506324</td>\n",
       "      <td>0.239946</td>\n",
       "      <td>0.522815</td>\n",
       "    </tr>\n",
       "    <tr>\n",
       "      <th>2023-08-31</th>\n",
       "      <td>0.097515</td>\n",
       "      <td>0.179744</td>\n",
       "      <td>-0.186817</td>\n",
       "    </tr>\n",
       "    <tr>\n",
       "      <th>2023-09-30</th>\n",
       "      <td>0.158118</td>\n",
       "      <td>0.268399</td>\n",
       "      <td>0.085845</td>\n",
       "    </tr>\n",
       "  </tbody>\n",
       "</table>\n",
       "</div>"
      ],
      "text/plain": [
       "                   a         b         c\n",
       "2023-01-31  0.047262  0.005334  0.155749\n",
       "2023-02-28  0.491359  0.131248  0.044106\n",
       "2023-03-31  0.000000  0.000000  0.000000\n",
       "2023-04-30  0.183148  0.089758 -0.206129\n",
       "2023-05-31  0.700679  0.011980  0.629817\n",
       "2023-06-30  0.575790  0.507588  0.635932\n",
       "2023-07-31  0.506324  0.239946  0.522815\n",
       "2023-08-31  0.097515  0.179744 -0.186817\n",
       "2023-09-30  0.158118  0.268399  0.085845"
      ]
     },
     "execution_count": 17,
     "metadata": {},
     "output_type": "execute_result"
    }
   ],
   "source": [
    "df - row"
   ]
  },
  {
   "cell_type": "code",
   "execution_count": 40,
   "id": "e1693bc9-0987-4f30-8382-7d66def4c44f",
   "metadata": {},
   "outputs": [
    {
     "data": {
      "text/html": [
       "<div>\n",
       "<style scoped>\n",
       "    .dataframe tbody tr th:only-of-type {\n",
       "        vertical-align: middle;\n",
       "    }\n",
       "\n",
       "    .dataframe tbody tr th {\n",
       "        vertical-align: top;\n",
       "    }\n",
       "\n",
       "    .dataframe thead th {\n",
       "        text-align: right;\n",
       "    }\n",
       "</style>\n",
       "<table border=\"1\" class=\"dataframe\">\n",
       "  <thead>\n",
       "    <tr style=\"text-align: right;\">\n",
       "      <th></th>\n",
       "      <th>a</th>\n",
       "      <th>b</th>\n",
       "      <th>c</th>\n",
       "    </tr>\n",
       "  </thead>\n",
       "  <tbody>\n",
       "    <tr>\n",
       "      <th>2023-01-31</th>\n",
       "      <td>0.047262</td>\n",
       "      <td>0.005334</td>\n",
       "      <td>0.155749</td>\n",
       "    </tr>\n",
       "    <tr>\n",
       "      <th>2023-02-28</th>\n",
       "      <td>0.491359</td>\n",
       "      <td>0.131248</td>\n",
       "      <td>0.044106</td>\n",
       "    </tr>\n",
       "    <tr>\n",
       "      <th>2023-03-31</th>\n",
       "      <td>0.000000</td>\n",
       "      <td>0.000000</td>\n",
       "      <td>0.000000</td>\n",
       "    </tr>\n",
       "    <tr>\n",
       "      <th>2023-04-30</th>\n",
       "      <td>0.183148</td>\n",
       "      <td>0.089758</td>\n",
       "      <td>-0.206129</td>\n",
       "    </tr>\n",
       "    <tr>\n",
       "      <th>2023-05-31</th>\n",
       "      <td>0.700679</td>\n",
       "      <td>0.011980</td>\n",
       "      <td>0.629817</td>\n",
       "    </tr>\n",
       "    <tr>\n",
       "      <th>2023-06-30</th>\n",
       "      <td>0.575790</td>\n",
       "      <td>0.507588</td>\n",
       "      <td>0.635932</td>\n",
       "    </tr>\n",
       "    <tr>\n",
       "      <th>2023-07-31</th>\n",
       "      <td>0.506324</td>\n",
       "      <td>0.239946</td>\n",
       "      <td>0.522815</td>\n",
       "    </tr>\n",
       "    <tr>\n",
       "      <th>2023-08-31</th>\n",
       "      <td>0.097515</td>\n",
       "      <td>0.179744</td>\n",
       "      <td>-0.186817</td>\n",
       "    </tr>\n",
       "    <tr>\n",
       "      <th>2023-09-30</th>\n",
       "      <td>0.158118</td>\n",
       "      <td>0.268399</td>\n",
       "      <td>0.085845</td>\n",
       "    </tr>\n",
       "  </tbody>\n",
       "</table>\n",
       "</div>"
      ],
      "text/plain": [
       "                   a         b         c\n",
       "2023-01-31  0.047262  0.005334  0.155749\n",
       "2023-02-28  0.491359  0.131248  0.044106\n",
       "2023-03-31  0.000000  0.000000  0.000000\n",
       "2023-04-30  0.183148  0.089758 -0.206129\n",
       "2023-05-31  0.700679  0.011980  0.629817\n",
       "2023-06-30  0.575790  0.507588  0.635932\n",
       "2023-07-31  0.506324  0.239946  0.522815\n",
       "2023-08-31  0.097515  0.179744 -0.186817\n",
       "2023-09-30  0.158118  0.268399  0.085845"
      ]
     },
     "execution_count": 40,
     "metadata": {},
     "output_type": "execute_result"
    }
   ],
   "source": [
    "#alternative approach\n",
    "# 0 --> row ---> index\n",
    "# 1 ---> column\n",
    "df.sub(row, axis='columns')"
   ]
  },
  {
   "cell_type": "code",
   "execution_count": 30,
   "id": "2a58b1e1-53aa-4475-bc93-88180ee87170",
   "metadata": {},
   "outputs": [],
   "source": [
    "df2 = df.copy()"
   ]
  },
  {
   "cell_type": "code",
   "execution_count": 31,
   "id": "020f26ce-4485-4830-918d-535fa063dac7",
   "metadata": {},
   "outputs": [
    {
     "data": {
      "text/html": [
       "<div>\n",
       "<style scoped>\n",
       "    .dataframe tbody tr th:only-of-type {\n",
       "        vertical-align: middle;\n",
       "    }\n",
       "\n",
       "    .dataframe tbody tr th {\n",
       "        vertical-align: top;\n",
       "    }\n",
       "\n",
       "    .dataframe thead th {\n",
       "        text-align: right;\n",
       "    }\n",
       "</style>\n",
       "<table border=\"1\" class=\"dataframe\">\n",
       "  <thead>\n",
       "    <tr style=\"text-align: right;\">\n",
       "      <th></th>\n",
       "      <th>a</th>\n",
       "      <th>b</th>\n",
       "      <th>c</th>\n",
       "    </tr>\n",
       "  </thead>\n",
       "  <tbody>\n",
       "    <tr>\n",
       "      <th>2023-01-31</th>\n",
       "      <td>0.214428</td>\n",
       "      <td>0.228698</td>\n",
       "      <td>0.506209</td>\n",
       "    </tr>\n",
       "    <tr>\n",
       "      <th>2023-02-28</th>\n",
       "      <td>0.658525</td>\n",
       "      <td>0.354613</td>\n",
       "      <td>0.394566</td>\n",
       "    </tr>\n",
       "    <tr>\n",
       "      <th>2023-03-31</th>\n",
       "      <td>0.167165</td>\n",
       "      <td>0.223364</td>\n",
       "      <td>0.350461</td>\n",
       "    </tr>\n",
       "    <tr>\n",
       "      <th>2023-04-30</th>\n",
       "      <td>0.350314</td>\n",
       "      <td>0.313123</td>\n",
       "      <td>0.144332</td>\n",
       "    </tr>\n",
       "    <tr>\n",
       "      <th>2023-05-31</th>\n",
       "      <td>0.867844</td>\n",
       "      <td>0.235344</td>\n",
       "      <td>0.980278</td>\n",
       "    </tr>\n",
       "    <tr>\n",
       "      <th>2023-06-30</th>\n",
       "      <td>0.742956</td>\n",
       "      <td>0.730953</td>\n",
       "      <td>0.986393</td>\n",
       "    </tr>\n",
       "    <tr>\n",
       "      <th>2023-07-31</th>\n",
       "      <td>0.673490</td>\n",
       "      <td>0.463311</td>\n",
       "      <td>0.873275</td>\n",
       "    </tr>\n",
       "    <tr>\n",
       "      <th>2023-08-31</th>\n",
       "      <td>0.264680</td>\n",
       "      <td>0.403108</td>\n",
       "      <td>0.163643</td>\n",
       "    </tr>\n",
       "    <tr>\n",
       "      <th>2023-09-30</th>\n",
       "      <td>0.325284</td>\n",
       "      <td>0.491763</td>\n",
       "      <td>0.436306</td>\n",
       "    </tr>\n",
       "  </tbody>\n",
       "</table>\n",
       "</div>"
      ],
      "text/plain": [
       "                   a         b         c\n",
       "2023-01-31  0.214428  0.228698  0.506209\n",
       "2023-02-28  0.658525  0.354613  0.394566\n",
       "2023-03-31  0.167165  0.223364  0.350461\n",
       "2023-04-30  0.350314  0.313123  0.144332\n",
       "2023-05-31  0.867844  0.235344  0.980278\n",
       "2023-06-30  0.742956  0.730953  0.986393\n",
       "2023-07-31  0.673490  0.463311  0.873275\n",
       "2023-08-31  0.264680  0.403108  0.163643\n",
       "2023-09-30  0.325284  0.491763  0.436306"
      ]
     },
     "execution_count": 31,
     "metadata": {},
     "output_type": "execute_result"
    }
   ],
   "source": [
    "df2"
   ]
  },
  {
   "cell_type": "code",
   "execution_count": 32,
   "id": "91917f1c-7443-413e-b2c1-541e0f0ae9ea",
   "metadata": {},
   "outputs": [],
   "source": [
    "df2.index = list(range(9))"
   ]
  },
  {
   "cell_type": "code",
   "execution_count": 33,
   "id": "aeda6d83-9787-47ba-ad90-81f8cf215b88",
   "metadata": {},
   "outputs": [
    {
     "data": {
      "text/html": [
       "<div>\n",
       "<style scoped>\n",
       "    .dataframe tbody tr th:only-of-type {\n",
       "        vertical-align: middle;\n",
       "    }\n",
       "\n",
       "    .dataframe tbody tr th {\n",
       "        vertical-align: top;\n",
       "    }\n",
       "\n",
       "    .dataframe thead th {\n",
       "        text-align: right;\n",
       "    }\n",
       "</style>\n",
       "<table border=\"1\" class=\"dataframe\">\n",
       "  <thead>\n",
       "    <tr style=\"text-align: right;\">\n",
       "      <th></th>\n",
       "      <th>a</th>\n",
       "      <th>b</th>\n",
       "      <th>c</th>\n",
       "    </tr>\n",
       "  </thead>\n",
       "  <tbody>\n",
       "    <tr>\n",
       "      <th>0</th>\n",
       "      <td>0.214428</td>\n",
       "      <td>0.228698</td>\n",
       "      <td>0.506209</td>\n",
       "    </tr>\n",
       "    <tr>\n",
       "      <th>1</th>\n",
       "      <td>0.658525</td>\n",
       "      <td>0.354613</td>\n",
       "      <td>0.394566</td>\n",
       "    </tr>\n",
       "    <tr>\n",
       "      <th>2</th>\n",
       "      <td>0.167165</td>\n",
       "      <td>0.223364</td>\n",
       "      <td>0.350461</td>\n",
       "    </tr>\n",
       "    <tr>\n",
       "      <th>3</th>\n",
       "      <td>0.350314</td>\n",
       "      <td>0.313123</td>\n",
       "      <td>0.144332</td>\n",
       "    </tr>\n",
       "    <tr>\n",
       "      <th>4</th>\n",
       "      <td>0.867844</td>\n",
       "      <td>0.235344</td>\n",
       "      <td>0.980278</td>\n",
       "    </tr>\n",
       "    <tr>\n",
       "      <th>5</th>\n",
       "      <td>0.742956</td>\n",
       "      <td>0.730953</td>\n",
       "      <td>0.986393</td>\n",
       "    </tr>\n",
       "    <tr>\n",
       "      <th>6</th>\n",
       "      <td>0.673490</td>\n",
       "      <td>0.463311</td>\n",
       "      <td>0.873275</td>\n",
       "    </tr>\n",
       "    <tr>\n",
       "      <th>7</th>\n",
       "      <td>0.264680</td>\n",
       "      <td>0.403108</td>\n",
       "      <td>0.163643</td>\n",
       "    </tr>\n",
       "    <tr>\n",
       "      <th>8</th>\n",
       "      <td>0.325284</td>\n",
       "      <td>0.491763</td>\n",
       "      <td>0.436306</td>\n",
       "    </tr>\n",
       "  </tbody>\n",
       "</table>\n",
       "</div>"
      ],
      "text/plain": [
       "          a         b         c\n",
       "0  0.214428  0.228698  0.506209\n",
       "1  0.658525  0.354613  0.394566\n",
       "2  0.167165  0.223364  0.350461\n",
       "3  0.350314  0.313123  0.144332\n",
       "4  0.867844  0.235344  0.980278\n",
       "5  0.742956  0.730953  0.986393\n",
       "6  0.673490  0.463311  0.873275\n",
       "7  0.264680  0.403108  0.163643\n",
       "8  0.325284  0.491763  0.436306"
      ]
     },
     "execution_count": 33,
     "metadata": {},
     "output_type": "execute_result"
    }
   ],
   "source": [
    "df2"
   ]
  },
  {
   "cell_type": "code",
   "execution_count": 41,
   "id": "6a28b866-00d1-4b89-a7d0-0535727acf01",
   "metadata": {},
   "outputs": [],
   "source": [
    "df2.at['2', 'b'] = 1"
   ]
  },
  {
   "cell_type": "code",
   "execution_count": 42,
   "id": "ddb2d3d8-72cb-4377-89d0-9e57badde40b",
   "metadata": {},
   "outputs": [
    {
     "data": {
      "text/html": [
       "<div>\n",
       "<style scoped>\n",
       "    .dataframe tbody tr th:only-of-type {\n",
       "        vertical-align: middle;\n",
       "    }\n",
       "\n",
       "    .dataframe tbody tr th {\n",
       "        vertical-align: top;\n",
       "    }\n",
       "\n",
       "    .dataframe thead th {\n",
       "        text-align: right;\n",
       "    }\n",
       "</style>\n",
       "<table border=\"1\" class=\"dataframe\">\n",
       "  <thead>\n",
       "    <tr style=\"text-align: right;\">\n",
       "      <th></th>\n",
       "      <th>a</th>\n",
       "      <th>b</th>\n",
       "      <th>c</th>\n",
       "    </tr>\n",
       "  </thead>\n",
       "  <tbody>\n",
       "    <tr>\n",
       "      <th>0</th>\n",
       "      <td>0.214428</td>\n",
       "      <td>0.228698</td>\n",
       "      <td>0.506209</td>\n",
       "    </tr>\n",
       "    <tr>\n",
       "      <th>1</th>\n",
       "      <td>0.658525</td>\n",
       "      <td>0.354613</td>\n",
       "      <td>0.394566</td>\n",
       "    </tr>\n",
       "    <tr>\n",
       "      <th>2</th>\n",
       "      <td>0.167165</td>\n",
       "      <td>0.223364</td>\n",
       "      <td>0.350461</td>\n",
       "    </tr>\n",
       "    <tr>\n",
       "      <th>3</th>\n",
       "      <td>0.350314</td>\n",
       "      <td>0.313123</td>\n",
       "      <td>0.144332</td>\n",
       "    </tr>\n",
       "    <tr>\n",
       "      <th>4</th>\n",
       "      <td>0.867844</td>\n",
       "      <td>0.235344</td>\n",
       "      <td>0.980278</td>\n",
       "    </tr>\n",
       "    <tr>\n",
       "      <th>5</th>\n",
       "      <td>0.742956</td>\n",
       "      <td>0.730953</td>\n",
       "      <td>0.986393</td>\n",
       "    </tr>\n",
       "    <tr>\n",
       "      <th>6</th>\n",
       "      <td>0.673490</td>\n",
       "      <td>0.463311</td>\n",
       "      <td>0.873275</td>\n",
       "    </tr>\n",
       "    <tr>\n",
       "      <th>7</th>\n",
       "      <td>0.264680</td>\n",
       "      <td>0.403108</td>\n",
       "      <td>0.163643</td>\n",
       "    </tr>\n",
       "    <tr>\n",
       "      <th>8</th>\n",
       "      <td>0.325284</td>\n",
       "      <td>0.491763</td>\n",
       "      <td>0.436306</td>\n",
       "    </tr>\n",
       "    <tr>\n",
       "      <th>2</th>\n",
       "      <td>NaN</td>\n",
       "      <td>1.000000</td>\n",
       "      <td>NaN</td>\n",
       "    </tr>\n",
       "    <tr>\n",
       "      <th>9</th>\n",
       "      <td>NaN</td>\n",
       "      <td>1.000000</td>\n",
       "      <td>NaN</td>\n",
       "    </tr>\n",
       "  </tbody>\n",
       "</table>\n",
       "</div>"
      ],
      "text/plain": [
       "          a         b         c\n",
       "0  0.214428  0.228698  0.506209\n",
       "1  0.658525  0.354613  0.394566\n",
       "2  0.167165  0.223364  0.350461\n",
       "3  0.350314  0.313123  0.144332\n",
       "4  0.867844  0.235344  0.980278\n",
       "5  0.742956  0.730953  0.986393\n",
       "6  0.673490  0.463311  0.873275\n",
       "7  0.264680  0.403108  0.163643\n",
       "8  0.325284  0.491763  0.436306\n",
       "2       NaN  1.000000       NaN\n",
       "9       NaN  1.000000       NaN"
      ]
     },
     "execution_count": 42,
     "metadata": {},
     "output_type": "execute_result"
    }
   ],
   "source": [
    "df2"
   ]
  },
  {
   "cell_type": "markdown",
   "id": "c7e0527c-acca-41e8-b6ac-ebe0d3625d96",
   "metadata": {},
   "source": [
    "## Boolian Reduction"
   ]
  },
  {
   "cell_type": "code",
   "execution_count": 46,
   "id": "976e69dd-6301-4f3a-aa63-28096ef97e3d",
   "metadata": {},
   "outputs": [
    {
     "data": {
      "text/plain": [
       "a    True\n",
       "b    True\n",
       "c    True\n",
       "dtype: bool"
      ]
     },
     "execution_count": 46,
     "metadata": {},
     "output_type": "execute_result"
    }
   ],
   "source": [
    "(df>0).all(axis='rows')"
   ]
  },
  {
   "cell_type": "code",
   "execution_count": 47,
   "id": "f1dee5ef-c647-443a-b7b5-891fa9f79ce1",
   "metadata": {},
   "outputs": [
    {
     "data": {
      "text/plain": [
       "2023-01-31    True\n",
       "2023-02-28    True\n",
       "2023-03-31    True\n",
       "2023-04-30    True\n",
       "2023-05-31    True\n",
       "2023-06-30    True\n",
       "2023-07-31    True\n",
       "2023-08-31    True\n",
       "2023-09-30    True\n",
       "Freq: M, dtype: bool"
      ]
     },
     "execution_count": 47,
     "metadata": {},
     "output_type": "execute_result"
    }
   ],
   "source": [
    "(df>0).any(axis='columns')"
   ]
  },
  {
   "cell_type": "code",
   "execution_count": 48,
   "id": "710e9781-d7a5-4be2-bbd7-7a1753a10f92",
   "metadata": {},
   "outputs": [
    {
     "data": {
      "text/plain": [
       "False"
      ]
     },
     "execution_count": 48,
     "metadata": {},
     "output_type": "execute_result"
    }
   ],
   "source": [
    "(df + df).equals(df2) #az lahaze mohtavaee"
   ]
  },
  {
   "cell_type": "code",
   "execution_count": 49,
   "id": "904387cc-6f42-4769-af2d-86b914bef0e4",
   "metadata": {},
   "outputs": [],
   "source": [
    "## Combine dfs \n"
   ]
  },
  {
   "cell_type": "code",
   "execution_count": null,
   "id": "aa6b503c-b0d6-48ce-a723-b88058d4f569",
   "metadata": {},
   "outputs": [],
   "source": []
  }
 ],
 "metadata": {
  "kernelspec": {
   "display_name": "Python 3 (ipykernel)",
   "language": "python",
   "name": "python3"
  },
  "language_info": {
   "codemirror_mode": {
    "name": "ipython",
    "version": 3
   },
   "file_extension": ".py",
   "mimetype": "text/x-python",
   "name": "python",
   "nbconvert_exporter": "python",
   "pygments_lexer": "ipython3",
   "version": "3.10.12"
  }
 },
 "nbformat": 4,
 "nbformat_minor": 5
}
