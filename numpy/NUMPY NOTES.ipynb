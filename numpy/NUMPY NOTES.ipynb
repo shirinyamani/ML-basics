{
 "cells": [
  {
   "cell_type": "code",
   "execution_count": 17,
   "id": "4811b158-d17a-49a1-9b15-7bf15b680436",
   "metadata": {},
   "outputs": [],
   "source": [
    "from array import array"
   ]
  },
  {
   "cell_type": "markdown",
   "id": "660c9455-52e0-45bc-bcc6-58a0db4c2391",
   "metadata": {},
   "source": [
    "# MemoryView"
   ]
  },
  {
   "cell_type": "code",
   "execution_count": 23,
   "id": "3d80b60a-5c79-41fe-9460-e40ace6faa44",
   "metadata": {},
   "outputs": [],
   "source": [
    "x = array('b', range(6)) #datatype= binary, and size 5"
   ]
  },
  {
   "cell_type": "code",
   "execution_count": 24,
   "id": "5545e1de-c089-4ab9-9df8-0330809d22af",
   "metadata": {},
   "outputs": [
    {
     "data": {
      "text/plain": [
       "array('b', [0, 1, 2, 3, 4, 5])"
      ]
     },
     "execution_count": 24,
     "metadata": {},
     "output_type": "execute_result"
    }
   ],
   "source": [
    "x"
   ]
  },
  {
   "cell_type": "code",
   "execution_count": 25,
   "id": "d2503f82-b840-419e-81c1-e42361c265bb",
   "metadata": {},
   "outputs": [],
   "source": [
    "m1 = memoryview(x) #get a memory view form X like a Camera!"
   ]
  },
  {
   "cell_type": "code",
   "execution_count": 26,
   "id": "eaa22006-5d05-4a30-b806-cb1109eb8ca0",
   "metadata": {},
   "outputs": [
    {
     "data": {
      "text/plain": [
       "<memory at 0x1196ebac0>"
      ]
     },
     "execution_count": 26,
     "metadata": {},
     "output_type": "execute_result"
    }
   ],
   "source": [
    "m1"
   ]
  },
  {
   "cell_type": "code",
   "execution_count": 27,
   "id": "d6609344-5257-4caf-9732-a526c4a97a56",
   "metadata": {},
   "outputs": [],
   "source": [
    "m2 = m1.cast('b', [2, 3]) #change the shape and the reading way!"
   ]
  },
  {
   "cell_type": "code",
   "execution_count": 28,
   "id": "4af5bc96-011f-4432-8ffd-6f8463da412b",
   "metadata": {},
   "outputs": [
    {
     "data": {
      "text/plain": [
       "<memory at 0x1195dea80>"
      ]
     },
     "execution_count": 28,
     "metadata": {},
     "output_type": "execute_result"
    }
   ],
   "source": [
    "m2"
   ]
  },
  {
   "cell_type": "code",
   "execution_count": 29,
   "id": "dac41b4f-d581-43d3-acd0-6364979b7f00",
   "metadata": {},
   "outputs": [
    {
     "data": {
      "text/plain": [
       "[[0, 1, 2], [3, 4, 5]]"
      ]
     },
     "execution_count": 29,
     "metadata": {},
     "output_type": "execute_result"
    }
   ],
   "source": [
    "m2.tolist()"
   ]
  },
  {
   "cell_type": "code",
   "execution_count": 31,
   "id": "4e21a965-f4c2-445c-9a77-a0eb9a7ea5d4",
   "metadata": {},
   "outputs": [
    {
     "data": {
      "text/plain": [
       "4"
      ]
     },
     "execution_count": 31,
     "metadata": {},
     "output_type": "execute_result"
    }
   ],
   "source": [
    "m2[1,1]"
   ]
  },
  {
   "cell_type": "code",
   "execution_count": 32,
   "id": "4dd6cc95-87a7-493f-b09a-814277517f97",
   "metadata": {},
   "outputs": [],
   "source": [
    "m2[1,1] = 125"
   ]
  },
  {
   "cell_type": "code",
   "execution_count": 34,
   "id": "acea930b-3196-4edd-93c9-ed6c2de9808f",
   "metadata": {},
   "outputs": [
    {
     "data": {
      "text/plain": [
       "[[0, 1, 2], [3, 125, 5]]"
      ]
     },
     "execution_count": 34,
     "metadata": {},
     "output_type": "execute_result"
    }
   ],
   "source": [
    "m2.tolist()"
   ]
  },
  {
   "cell_type": "code",
   "execution_count": 35,
   "id": "ad223617-c835-45e3-adce-f8aeea7175d4",
   "metadata": {},
   "outputs": [
    {
     "data": {
      "text/plain": [
       "[0, 1, 2, 3, 125, 5]"
      ]
     },
     "execution_count": 35,
     "metadata": {},
     "output_type": "execute_result"
    }
   ],
   "source": [
    "m1.tolist()"
   ]
  },
  {
   "cell_type": "code",
   "execution_count": null,
   "id": "a42a7be4-e752-426c-a120-83cb820b5d8b",
   "metadata": {},
   "outputs": [],
   "source": []
  }
 ],
 "metadata": {
  "kernelspec": {
   "display_name": "Python 3 (ipykernel)",
   "language": "python",
   "name": "python3"
  },
  "language_info": {
   "codemirror_mode": {
    "name": "ipython",
    "version": 3
   },
   "file_extension": ".py",
   "mimetype": "text/x-python",
   "name": "python",
   "nbconvert_exporter": "python",
   "pygments_lexer": "ipython3",
   "version": "3.10.10"
  }
 },
 "nbformat": 4,
 "nbformat_minor": 5
}
